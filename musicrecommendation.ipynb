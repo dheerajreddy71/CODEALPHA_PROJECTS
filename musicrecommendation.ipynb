{
  "cells": [
    {
      "cell_type": "code",
      "execution_count": 54,
      "metadata": {
        "_cell_guid": "b1076dfc-b9ad-4769-8c92-a6c4dae69d19",
        "_uuid": "8f2839f25d086af736a60e9eeb907d3b93b6e0e5",
        "id": "8FS-6zKP2xXB",
        "trusted": true
      },
      "outputs": [],
      "source": [
        "import numpy as np \n",
        "import pandas as pd\n",
        "import os\n",
        "for dirname, _, filenames in os.walk('kkboxmusicrecommendation_notebook_v7.ipynb'):\n",
        "    for filename in filenames:\n",
        "        print(os.path.join(dirname, filename))"
      ]
    },
    {
      "cell_type": "code",
      "execution_count": 55,
      "metadata": {
        "id": "LndXkxpH2xXF",
        "trusted": true
      },
      "outputs": [],
      "source": [
        "import warnings\n",
        "warnings.filterwarnings('ignore')\n",
        "import numpy as np \n",
        "import pandas as pd\n",
        "import matplotlib.pyplot as plt\n",
        "import seaborn as sns\n",
        "import lightgbm as lgb\n",
        "from subprocess import check_output\n",
        "np.random.seed(2020)"
      ]
    },
    {
      "cell_type": "code",
      "execution_count": 56,
      "metadata": {
        "id": "WC0h1i302xXG",
        "trusted": true
      },
      "outputs": [],
      "source": [
        "train_df = pd.read_csv(\"train.csv\")\n",
        "test_df = pd.read_csv(\"test.csv\")\n",
        "song_df = pd.read_csv(\"songs.csv\")\n",
        "song_extra_df = pd.read_csv(\"song_extra_info.csv\")\n",
        "members_df = pd.read_csv(\"members.csv\")"
      ]
    },
    {
      "cell_type": "code",
      "execution_count": 57,
      "metadata": {
        "colab": {
          "base_uri": "https://localhost:8080/"
        },
        "id": "ur6qeUiT2xXG",
        "outputId": "d73a8c66-73bb-42c4-a7f8-ce006299f0d3",
        "trusted": true
      },
      "outputs": [
        {
          "name": "stdout",
          "output_type": "stream",
          "text": [
            "<class 'pandas.core.frame.DataFrame'>\n",
            "RangeIndex: 7377418 entries, 0 to 7377417\n",
            "Data columns (total 6 columns):\n",
            " #   Column              Dtype \n",
            "---  ------              ----- \n",
            " 0   msno                object\n",
            " 1   song_id             object\n",
            " 2   source_system_tab   object\n",
            " 3   source_screen_name  object\n",
            " 4   source_type         object\n",
            " 5   target              int64 \n",
            "dtypes: int64(1), object(5)\n",
            "memory usage: 337.7+ MB\n"
          ]
        }
      ],
      "source": [
        "train_df.info()"
      ]
    },
    {
      "cell_type": "code",
      "execution_count": 58,
      "metadata": {
        "colab": {
          "base_uri": "https://localhost:8080/"
        },
        "id": "ElYocwjW2xXG",
        "outputId": "176b50af-e452-4075-a6f9-74bd124b4414",
        "trusted": true
      },
      "outputs": [
        {
          "data": {
            "text/plain": [
              "msno                  7377418\n",
              "song_id               7377418\n",
              "source_system_tab     7352569\n",
              "source_screen_name    6962614\n",
              "source_type           7355879\n",
              "target                7377418\n",
              "dtype: int64"
            ]
          },
          "execution_count": 58,
          "metadata": {},
          "output_type": "execute_result"
        }
      ],
      "source": [
        "train_df.count()"
      ]
    },
    {
      "cell_type": "code",
      "execution_count": 59,
      "metadata": {
        "colab": {
          "base_uri": "https://localhost:8080/",
          "height": 196
        },
        "id": "vmF7t91s2xXH",
        "outputId": "4de2843c-b715-4e26-c1c2-760bbbcd060f",
        "trusted": true
      },
      "outputs": [
        {
          "data": {
            "text/html": [
              "<div>\n",
              "<style scoped>\n",
              "    .dataframe tbody tr th:only-of-type {\n",
              "        vertical-align: middle;\n",
              "    }\n",
              "\n",
              "    .dataframe tbody tr th {\n",
              "        vertical-align: top;\n",
              "    }\n",
              "\n",
              "    .dataframe thead th {\n",
              "        text-align: right;\n",
              "    }\n",
              "</style>\n",
              "<table border=\"1\" class=\"dataframe\">\n",
              "  <thead>\n",
              "    <tr style=\"text-align: right;\">\n",
              "      <th></th>\n",
              "      <th>msno</th>\n",
              "      <th>song_id</th>\n",
              "      <th>source_system_tab</th>\n",
              "      <th>source_screen_name</th>\n",
              "      <th>source_type</th>\n",
              "      <th>target</th>\n",
              "    </tr>\n",
              "  </thead>\n",
              "  <tbody>\n",
              "    <tr>\n",
              "      <th>0</th>\n",
              "      <td>FGtllVqz18RPiwJj/edr2gV78zirAiY/9SmYvia+kCg=</td>\n",
              "      <td>BBzumQNXUHKdEBOB7mAJuzok+IJA1c2Ryg/yzTF6tik=</td>\n",
              "      <td>explore</td>\n",
              "      <td>Explore</td>\n",
              "      <td>online-playlist</td>\n",
              "      <td>1</td>\n",
              "    </tr>\n",
              "    <tr>\n",
              "      <th>1</th>\n",
              "      <td>Xumu+NIjS6QYVxDS4/t3SawvJ7viT9hPKXmf0RtLNx8=</td>\n",
              "      <td>bhp/MpSNoqoxOIB+/l8WPqu6jldth4DIpCm3ayXnJqM=</td>\n",
              "      <td>my library</td>\n",
              "      <td>Local playlist more</td>\n",
              "      <td>local-playlist</td>\n",
              "      <td>1</td>\n",
              "    </tr>\n",
              "    <tr>\n",
              "      <th>2</th>\n",
              "      <td>Xumu+NIjS6QYVxDS4/t3SawvJ7viT9hPKXmf0RtLNx8=</td>\n",
              "      <td>JNWfrrC7zNN7BdMpsISKa4Mw+xVJYNnxXh3/Epw7QgY=</td>\n",
              "      <td>my library</td>\n",
              "      <td>Local playlist more</td>\n",
              "      <td>local-playlist</td>\n",
              "      <td>1</td>\n",
              "    </tr>\n",
              "    <tr>\n",
              "      <th>3</th>\n",
              "      <td>Xumu+NIjS6QYVxDS4/t3SawvJ7viT9hPKXmf0RtLNx8=</td>\n",
              "      <td>2A87tzfnJTSWqD7gIZHisolhe4DMdzkbd6LzO1KHjNs=</td>\n",
              "      <td>my library</td>\n",
              "      <td>Local playlist more</td>\n",
              "      <td>local-playlist</td>\n",
              "      <td>1</td>\n",
              "    </tr>\n",
              "    <tr>\n",
              "      <th>4</th>\n",
              "      <td>FGtllVqz18RPiwJj/edr2gV78zirAiY/9SmYvia+kCg=</td>\n",
              "      <td>3qm6XTZ6MOCU11x8FIVbAGH5l5uMkT3/ZalWG1oo2Gc=</td>\n",
              "      <td>explore</td>\n",
              "      <td>Explore</td>\n",
              "      <td>online-playlist</td>\n",
              "      <td>1</td>\n",
              "    </tr>\n",
              "  </tbody>\n",
              "</table>\n",
              "</div>"
            ],
            "text/plain": [
              "                                           msno  \\\n",
              "0  FGtllVqz18RPiwJj/edr2gV78zirAiY/9SmYvia+kCg=   \n",
              "1  Xumu+NIjS6QYVxDS4/t3SawvJ7viT9hPKXmf0RtLNx8=   \n",
              "2  Xumu+NIjS6QYVxDS4/t3SawvJ7viT9hPKXmf0RtLNx8=   \n",
              "3  Xumu+NIjS6QYVxDS4/t3SawvJ7viT9hPKXmf0RtLNx8=   \n",
              "4  FGtllVqz18RPiwJj/edr2gV78zirAiY/9SmYvia+kCg=   \n",
              "\n",
              "                                        song_id source_system_tab  \\\n",
              "0  BBzumQNXUHKdEBOB7mAJuzok+IJA1c2Ryg/yzTF6tik=           explore   \n",
              "1  bhp/MpSNoqoxOIB+/l8WPqu6jldth4DIpCm3ayXnJqM=        my library   \n",
              "2  JNWfrrC7zNN7BdMpsISKa4Mw+xVJYNnxXh3/Epw7QgY=        my library   \n",
              "3  2A87tzfnJTSWqD7gIZHisolhe4DMdzkbd6LzO1KHjNs=        my library   \n",
              "4  3qm6XTZ6MOCU11x8FIVbAGH5l5uMkT3/ZalWG1oo2Gc=           explore   \n",
              "\n",
              "    source_screen_name      source_type  target  \n",
              "0              Explore  online-playlist       1  \n",
              "1  Local playlist more   local-playlist       1  \n",
              "2  Local playlist more   local-playlist       1  \n",
              "3  Local playlist more   local-playlist       1  \n",
              "4              Explore  online-playlist       1  "
            ]
          },
          "execution_count": 59,
          "metadata": {},
          "output_type": "execute_result"
        }
      ],
      "source": [
        "train_df.head()"
      ]
    },
    {
      "cell_type": "code",
      "execution_count": 60,
      "metadata": {
        "colab": {
          "base_uri": "https://localhost:8080/"
        },
        "id": "unKP5Jio2xXI",
        "outputId": "f0908540-ed3e-49c5-b04b-3329d6214ecb",
        "trusted": true
      },
      "outputs": [
        {
          "name": "stdout",
          "output_type": "stream",
          "text": [
            "<class 'pandas.core.frame.DataFrame'>\n",
            "RangeIndex: 2556790 entries, 0 to 2556789\n",
            "Data columns (total 6 columns):\n",
            " #   Column              Dtype \n",
            "---  ------              ----- \n",
            " 0   id                  int64 \n",
            " 1   msno                object\n",
            " 2   song_id             object\n",
            " 3   source_system_tab   object\n",
            " 4   source_screen_name  object\n",
            " 5   source_type         object\n",
            "dtypes: int64(1), object(5)\n",
            "memory usage: 117.0+ MB\n"
          ]
        }
      ],
      "source": [
        "test_df.info()"
      ]
    },
    {
      "cell_type": "code",
      "execution_count": 61,
      "metadata": {
        "colab": {
          "base_uri": "https://localhost:8080/"
        },
        "id": "1OI17Gq02xXI",
        "outputId": "51f54355-09ee-485c-fa0b-6ae6b1b398a7",
        "trusted": true
      },
      "outputs": [
        {
          "data": {
            "text/plain": [
              "id                    2556790\n",
              "msno                  2556790\n",
              "song_id               2556790\n",
              "source_system_tab     2548348\n",
              "source_screen_name    2393907\n",
              "source_type           2549493\n",
              "dtype: int64"
            ]
          },
          "execution_count": 61,
          "metadata": {},
          "output_type": "execute_result"
        }
      ],
      "source": [
        "test_df.count()"
      ]
    },
    {
      "cell_type": "code",
      "execution_count": 62,
      "metadata": {
        "colab": {
          "base_uri": "https://localhost:8080/",
          "height": 196
        },
        "id": "A8KDPA4Z2xXI",
        "outputId": "e0d0196b-bc94-4eab-821e-d80c4fa63844",
        "trusted": true
      },
      "outputs": [
        {
          "data": {
            "text/html": [
              "<div>\n",
              "<style scoped>\n",
              "    .dataframe tbody tr th:only-of-type {\n",
              "        vertical-align: middle;\n",
              "    }\n",
              "\n",
              "    .dataframe tbody tr th {\n",
              "        vertical-align: top;\n",
              "    }\n",
              "\n",
              "    .dataframe thead th {\n",
              "        text-align: right;\n",
              "    }\n",
              "</style>\n",
              "<table border=\"1\" class=\"dataframe\">\n",
              "  <thead>\n",
              "    <tr style=\"text-align: right;\">\n",
              "      <th></th>\n",
              "      <th>id</th>\n",
              "      <th>msno</th>\n",
              "      <th>song_id</th>\n",
              "      <th>source_system_tab</th>\n",
              "      <th>source_screen_name</th>\n",
              "      <th>source_type</th>\n",
              "    </tr>\n",
              "  </thead>\n",
              "  <tbody>\n",
              "    <tr>\n",
              "      <th>0</th>\n",
              "      <td>0</td>\n",
              "      <td>V8ruy7SGk7tDm3zA51DPpn6qutt+vmKMBKa21dp54uM=</td>\n",
              "      <td>WmHKgKMlp1lQMecNdNvDMkvIycZYHnFwDT72I5sIssc=</td>\n",
              "      <td>my library</td>\n",
              "      <td>Local playlist more</td>\n",
              "      <td>local-library</td>\n",
              "    </tr>\n",
              "    <tr>\n",
              "      <th>1</th>\n",
              "      <td>1</td>\n",
              "      <td>V8ruy7SGk7tDm3zA51DPpn6qutt+vmKMBKa21dp54uM=</td>\n",
              "      <td>y/rsZ9DC7FwK5F2PK2D5mj+aOBUJAjuu3dZ14NgE0vM=</td>\n",
              "      <td>my library</td>\n",
              "      <td>Local playlist more</td>\n",
              "      <td>local-library</td>\n",
              "    </tr>\n",
              "    <tr>\n",
              "      <th>2</th>\n",
              "      <td>2</td>\n",
              "      <td>/uQAlrAkaczV+nWCd2sPF2ekvXPRipV7q0l+gbLuxjw=</td>\n",
              "      <td>8eZLFOdGVdXBSqoAv5nsLigeH2BvKXzTQYtUM53I0k4=</td>\n",
              "      <td>discover</td>\n",
              "      <td>NaN</td>\n",
              "      <td>song-based-playlist</td>\n",
              "    </tr>\n",
              "    <tr>\n",
              "      <th>3</th>\n",
              "      <td>3</td>\n",
              "      <td>1a6oo/iXKatxQx4eS9zTVD+KlSVaAFbTIqVvwLC1Y0k=</td>\n",
              "      <td>ztCf8thYsS4YN3GcIL/bvoxLm/T5mYBVKOO4C9NiVfQ=</td>\n",
              "      <td>radio</td>\n",
              "      <td>Radio</td>\n",
              "      <td>radio</td>\n",
              "    </tr>\n",
              "    <tr>\n",
              "      <th>4</th>\n",
              "      <td>4</td>\n",
              "      <td>1a6oo/iXKatxQx4eS9zTVD+KlSVaAFbTIqVvwLC1Y0k=</td>\n",
              "      <td>MKVMpslKcQhMaFEgcEQhEfi5+RZhMYlU3eRDpySrH8Y=</td>\n",
              "      <td>radio</td>\n",
              "      <td>Radio</td>\n",
              "      <td>radio</td>\n",
              "    </tr>\n",
              "  </tbody>\n",
              "</table>\n",
              "</div>"
            ],
            "text/plain": [
              "   id                                          msno  \\\n",
              "0   0  V8ruy7SGk7tDm3zA51DPpn6qutt+vmKMBKa21dp54uM=   \n",
              "1   1  V8ruy7SGk7tDm3zA51DPpn6qutt+vmKMBKa21dp54uM=   \n",
              "2   2  /uQAlrAkaczV+nWCd2sPF2ekvXPRipV7q0l+gbLuxjw=   \n",
              "3   3  1a6oo/iXKatxQx4eS9zTVD+KlSVaAFbTIqVvwLC1Y0k=   \n",
              "4   4  1a6oo/iXKatxQx4eS9zTVD+KlSVaAFbTIqVvwLC1Y0k=   \n",
              "\n",
              "                                        song_id source_system_tab  \\\n",
              "0  WmHKgKMlp1lQMecNdNvDMkvIycZYHnFwDT72I5sIssc=        my library   \n",
              "1  y/rsZ9DC7FwK5F2PK2D5mj+aOBUJAjuu3dZ14NgE0vM=        my library   \n",
              "2  8eZLFOdGVdXBSqoAv5nsLigeH2BvKXzTQYtUM53I0k4=          discover   \n",
              "3  ztCf8thYsS4YN3GcIL/bvoxLm/T5mYBVKOO4C9NiVfQ=             radio   \n",
              "4  MKVMpslKcQhMaFEgcEQhEfi5+RZhMYlU3eRDpySrH8Y=             radio   \n",
              "\n",
              "    source_screen_name          source_type  \n",
              "0  Local playlist more        local-library  \n",
              "1  Local playlist more        local-library  \n",
              "2                  NaN  song-based-playlist  \n",
              "3                Radio                radio  \n",
              "4                Radio                radio  "
            ]
          },
          "execution_count": 62,
          "metadata": {},
          "output_type": "execute_result"
        }
      ],
      "source": [
        "test_df.head()"
      ]
    },
    {
      "cell_type": "code",
      "execution_count": 63,
      "metadata": {
        "colab": {
          "base_uri": "https://localhost:8080/"
        },
        "id": "H7fqmJKH2xXJ",
        "outputId": "0cb85040-7b98-467b-f7e5-27bd6ae2e4c6",
        "trusted": true
      },
      "outputs": [
        {
          "name": "stdout",
          "output_type": "stream",
          "text": [
            "<class 'pandas.core.frame.DataFrame'>\n",
            "RangeIndex: 2296320 entries, 0 to 2296319\n",
            "Data columns (total 7 columns):\n",
            " #   Column       Dtype  \n",
            "---  ------       -----  \n",
            " 0   song_id      object \n",
            " 1   song_length  int64  \n",
            " 2   genre_ids    object \n",
            " 3   artist_name  object \n",
            " 4   composer     object \n",
            " 5   lyricist     object \n",
            " 6   language     float64\n",
            "dtypes: float64(1), int64(1), object(5)\n",
            "memory usage: 122.6+ MB\n"
          ]
        }
      ],
      "source": [
        "song_df.info()"
      ]
    },
    {
      "cell_type": "code",
      "execution_count": 64,
      "metadata": {
        "colab": {
          "base_uri": "https://localhost:8080/"
        },
        "id": "JmZSLyc12xXJ",
        "outputId": "3c527ebc-75da-41d6-8aa4-4503fc470cb4",
        "trusted": true
      },
      "outputs": [
        {
          "data": {
            "text/plain": [
              "song_id        2296320\n",
              "song_length    2296320\n",
              "genre_ids      2202204\n",
              "artist_name    2296320\n",
              "composer       1224962\n",
              "lyricist        351014\n",
              "language       2296319\n",
              "dtype: int64"
            ]
          },
          "execution_count": 64,
          "metadata": {},
          "output_type": "execute_result"
        }
      ],
      "source": [
        "song_df.count()"
      ]
    },
    {
      "cell_type": "code",
      "execution_count": 65,
      "metadata": {
        "colab": {
          "base_uri": "https://localhost:8080/",
          "height": 196
        },
        "id": "h1Y1tWEX2xXJ",
        "outputId": "c45b9747-955c-43e5-cbf5-e58413abb540",
        "trusted": true
      },
      "outputs": [
        {
          "data": {
            "text/html": [
              "<div>\n",
              "<style scoped>\n",
              "    .dataframe tbody tr th:only-of-type {\n",
              "        vertical-align: middle;\n",
              "    }\n",
              "\n",
              "    .dataframe tbody tr th {\n",
              "        vertical-align: top;\n",
              "    }\n",
              "\n",
              "    .dataframe thead th {\n",
              "        text-align: right;\n",
              "    }\n",
              "</style>\n",
              "<table border=\"1\" class=\"dataframe\">\n",
              "  <thead>\n",
              "    <tr style=\"text-align: right;\">\n",
              "      <th></th>\n",
              "      <th>song_id</th>\n",
              "      <th>song_length</th>\n",
              "      <th>genre_ids</th>\n",
              "      <th>artist_name</th>\n",
              "      <th>composer</th>\n",
              "      <th>lyricist</th>\n",
              "      <th>language</th>\n",
              "    </tr>\n",
              "  </thead>\n",
              "  <tbody>\n",
              "    <tr>\n",
              "      <th>0</th>\n",
              "      <td>CXoTN1eb7AI+DntdU1vbcwGRV4SCIDxZu+YD8JP8r4E=</td>\n",
              "      <td>247640</td>\n",
              "      <td>465</td>\n",
              "      <td>張信哲 (Jeff Chang)</td>\n",
              "      <td>董貞</td>\n",
              "      <td>何啟弘</td>\n",
              "      <td>3.0</td>\n",
              "    </tr>\n",
              "    <tr>\n",
              "      <th>1</th>\n",
              "      <td>o0kFgae9QtnYgRkVPqLJwa05zIhRlUjfF7O1tDw0ZDU=</td>\n",
              "      <td>197328</td>\n",
              "      <td>444</td>\n",
              "      <td>BLACKPINK</td>\n",
              "      <td>TEDDY|  FUTURE BOUNCE|  Bekuh BOOM</td>\n",
              "      <td>TEDDY</td>\n",
              "      <td>31.0</td>\n",
              "    </tr>\n",
              "    <tr>\n",
              "      <th>2</th>\n",
              "      <td>DwVvVurfpuz+XPuFvucclVQEyPqcpUkHR0ne1RQzPs0=</td>\n",
              "      <td>231781</td>\n",
              "      <td>465</td>\n",
              "      <td>SUPER JUNIOR</td>\n",
              "      <td>NaN</td>\n",
              "      <td>NaN</td>\n",
              "      <td>31.0</td>\n",
              "    </tr>\n",
              "    <tr>\n",
              "      <th>3</th>\n",
              "      <td>dKMBWoZyScdxSkihKG+Vf47nc18N9q4m58+b4e7dSSE=</td>\n",
              "      <td>273554</td>\n",
              "      <td>465</td>\n",
              "      <td>S.H.E</td>\n",
              "      <td>湯小康</td>\n",
              "      <td>徐世珍</td>\n",
              "      <td>3.0</td>\n",
              "    </tr>\n",
              "    <tr>\n",
              "      <th>4</th>\n",
              "      <td>W3bqWd3T+VeHFzHAUfARgW9AvVRaF4N5Yzm4Mr6Eo/o=</td>\n",
              "      <td>140329</td>\n",
              "      <td>726</td>\n",
              "      <td>貴族精選</td>\n",
              "      <td>Traditional</td>\n",
              "      <td>Traditional</td>\n",
              "      <td>52.0</td>\n",
              "    </tr>\n",
              "  </tbody>\n",
              "</table>\n",
              "</div>"
            ],
            "text/plain": [
              "                                        song_id  song_length genre_ids  \\\n",
              "0  CXoTN1eb7AI+DntdU1vbcwGRV4SCIDxZu+YD8JP8r4E=       247640       465   \n",
              "1  o0kFgae9QtnYgRkVPqLJwa05zIhRlUjfF7O1tDw0ZDU=       197328       444   \n",
              "2  DwVvVurfpuz+XPuFvucclVQEyPqcpUkHR0ne1RQzPs0=       231781       465   \n",
              "3  dKMBWoZyScdxSkihKG+Vf47nc18N9q4m58+b4e7dSSE=       273554       465   \n",
              "4  W3bqWd3T+VeHFzHAUfARgW9AvVRaF4N5Yzm4Mr6Eo/o=       140329       726   \n",
              "\n",
              "        artist_name                            composer     lyricist  language  \n",
              "0  張信哲 (Jeff Chang)                                  董貞          何啟弘       3.0  \n",
              "1         BLACKPINK  TEDDY|  FUTURE BOUNCE|  Bekuh BOOM        TEDDY      31.0  \n",
              "2      SUPER JUNIOR                                 NaN          NaN      31.0  \n",
              "3             S.H.E                                 湯小康          徐世珍       3.0  \n",
              "4              貴族精選                         Traditional  Traditional      52.0  "
            ]
          },
          "execution_count": 65,
          "metadata": {},
          "output_type": "execute_result"
        }
      ],
      "source": [
        "song_df.head()"
      ]
    },
    {
      "cell_type": "code",
      "execution_count": 66,
      "metadata": {
        "colab": {
          "base_uri": "https://localhost:8080/"
        },
        "id": "eJ89YCOr2xXL",
        "outputId": "d6796dcc-9329-4682-fc78-586fd1508183",
        "trusted": true
      },
      "outputs": [
        {
          "name": "stdout",
          "output_type": "stream",
          "text": [
            "Unique Song amount in trainset: 359966\n",
            "Unique Song amount in testset: 224753\n",
            "Unique Song amount in song list: 2296320\n"
          ]
        }
      ],
      "source": [
        "print(\"Unique Song amount in trainset:\",train_df['song_id'].nunique())\n",
        "print(\"Unique Song amount in testset:\", test_df['song_id'].nunique())\n",
        "print(\"Unique Song amount in song list:\",song_df['song_id'].nunique())"
      ]
    },
    {
      "cell_type": "code",
      "execution_count": 67,
      "metadata": {
        "colab": {
          "base_uri": "https://localhost:8080/"
        },
        "id": "OrZO_jZZ2xXJ",
        "outputId": "2658b439-592b-440e-ec0f-7ce6d2f4abce",
        "trusted": true
      },
      "outputs": [
        {
          "name": "stdout",
          "output_type": "stream",
          "text": [
            "<class 'pandas.core.frame.DataFrame'>\n",
            "RangeIndex: 2295971 entries, 0 to 2295970\n",
            "Data columns (total 3 columns):\n",
            " #   Column   Dtype \n",
            "---  ------   ----- \n",
            " 0   song_id  object\n",
            " 1   name     object\n",
            " 2   isrc     object\n",
            "dtypes: object(3)\n",
            "memory usage: 52.6+ MB\n"
          ]
        }
      ],
      "source": [
        "song_extra_df.info()"
      ]
    },
    {
      "cell_type": "code",
      "execution_count": 68,
      "metadata": {
        "colab": {
          "base_uri": "https://localhost:8080/"
        },
        "id": "XP1hJpoT2xXJ",
        "outputId": "14deab75-a5b0-48ed-9429-d9ddc63cc955",
        "trusted": true
      },
      "outputs": [
        {
          "data": {
            "text/plain": [
              "song_id    2295971\n",
              "name       2295968\n",
              "isrc       2159423\n",
              "dtype: int64"
            ]
          },
          "execution_count": 68,
          "metadata": {},
          "output_type": "execute_result"
        }
      ],
      "source": [
        "song_extra_df.count()"
      ]
    },
    {
      "cell_type": "code",
      "execution_count": 69,
      "metadata": {
        "colab": {
          "base_uri": "https://localhost:8080/",
          "height": 196
        },
        "id": "YcXXRNX32xXK",
        "outputId": "af79c1f5-e122-4153-a749-c724da783e0b",
        "trusted": true
      },
      "outputs": [
        {
          "data": {
            "text/html": [
              "<div>\n",
              "<style scoped>\n",
              "    .dataframe tbody tr th:only-of-type {\n",
              "        vertical-align: middle;\n",
              "    }\n",
              "\n",
              "    .dataframe tbody tr th {\n",
              "        vertical-align: top;\n",
              "    }\n",
              "\n",
              "    .dataframe thead th {\n",
              "        text-align: right;\n",
              "    }\n",
              "</style>\n",
              "<table border=\"1\" class=\"dataframe\">\n",
              "  <thead>\n",
              "    <tr style=\"text-align: right;\">\n",
              "      <th></th>\n",
              "      <th>song_id</th>\n",
              "      <th>name</th>\n",
              "      <th>isrc</th>\n",
              "    </tr>\n",
              "  </thead>\n",
              "  <tbody>\n",
              "    <tr>\n",
              "      <th>0</th>\n",
              "      <td>LP7pLJoJFBvyuUwvu+oLzjT+bI+UeBPURCecJsX1jjs=</td>\n",
              "      <td>我們</td>\n",
              "      <td>TWUM71200043</td>\n",
              "    </tr>\n",
              "    <tr>\n",
              "      <th>1</th>\n",
              "      <td>ClazTFnk6r0Bnuie44bocdNMM3rdlrq0bCGAsGUWcHE=</td>\n",
              "      <td>Let Me Love You</td>\n",
              "      <td>QMZSY1600015</td>\n",
              "    </tr>\n",
              "    <tr>\n",
              "      <th>2</th>\n",
              "      <td>u2ja/bZE3zhCGxvbbOB3zOoUjx27u40cf5g09UXMoKQ=</td>\n",
              "      <td>原諒我</td>\n",
              "      <td>TWA530887303</td>\n",
              "    </tr>\n",
              "    <tr>\n",
              "      <th>3</th>\n",
              "      <td>92Fqsy0+p6+RHe2EoLKjHahORHR1Kq1TBJoClW9v+Ts=</td>\n",
              "      <td>Classic</td>\n",
              "      <td>USSM11301446</td>\n",
              "    </tr>\n",
              "    <tr>\n",
              "      <th>4</th>\n",
              "      <td>0QFmz/+rJy1Q56C1DuYqT9hKKqi5TUqx0sN0IwvoHrw=</td>\n",
              "      <td>愛投羅網</td>\n",
              "      <td>TWA471306001</td>\n",
              "    </tr>\n",
              "  </tbody>\n",
              "</table>\n",
              "</div>"
            ],
            "text/plain": [
              "                                        song_id             name          isrc\n",
              "0  LP7pLJoJFBvyuUwvu+oLzjT+bI+UeBPURCecJsX1jjs=               我們  TWUM71200043\n",
              "1  ClazTFnk6r0Bnuie44bocdNMM3rdlrq0bCGAsGUWcHE=  Let Me Love You  QMZSY1600015\n",
              "2  u2ja/bZE3zhCGxvbbOB3zOoUjx27u40cf5g09UXMoKQ=              原諒我  TWA530887303\n",
              "3  92Fqsy0+p6+RHe2EoLKjHahORHR1Kq1TBJoClW9v+Ts=          Classic  USSM11301446\n",
              "4  0QFmz/+rJy1Q56C1DuYqT9hKKqi5TUqx0sN0IwvoHrw=             愛投羅網  TWA471306001"
            ]
          },
          "execution_count": 69,
          "metadata": {},
          "output_type": "execute_result"
        }
      ],
      "source": [
        "song_extra_df.head()"
      ]
    },
    {
      "cell_type": "code",
      "execution_count": 70,
      "metadata": {
        "colab": {
          "base_uri": "https://localhost:8080/"
        },
        "id": "CnHAGXzE2xXK",
        "outputId": "e435685f-4019-48a1-b5e1-09059cc4fe61",
        "trusted": true
      },
      "outputs": [
        {
          "name": "stdout",
          "output_type": "stream",
          "text": [
            "<class 'pandas.core.frame.DataFrame'>\n",
            "RangeIndex: 34403 entries, 0 to 34402\n",
            "Data columns (total 7 columns):\n",
            " #   Column                  Non-Null Count  Dtype \n",
            "---  ------                  --------------  ----- \n",
            " 0   msno                    34403 non-null  object\n",
            " 1   city                    34403 non-null  int64 \n",
            " 2   bd                      34403 non-null  int64 \n",
            " 3   gender                  14501 non-null  object\n",
            " 4   registered_via          34403 non-null  int64 \n",
            " 5   registration_init_time  34403 non-null  int64 \n",
            " 6   expiration_date         34403 non-null  int64 \n",
            "dtypes: int64(5), object(2)\n",
            "memory usage: 1.8+ MB\n"
          ]
        }
      ],
      "source": [
        "members_df.info()"
      ]
    },
    {
      "cell_type": "code",
      "execution_count": 71,
      "metadata": {
        "colab": {
          "base_uri": "https://localhost:8080/",
          "height": 484
        },
        "id": "V7cmC1qY2xXL",
        "outputId": "0b753652-54c5-47f6-9326-d64201ba4577",
        "trusted": true
      },
      "outputs": [
        {
          "data": {
            "text/html": [
              "<div>\n",
              "<style scoped>\n",
              "    .dataframe tbody tr th:only-of-type {\n",
              "        vertical-align: middle;\n",
              "    }\n",
              "\n",
              "    .dataframe tbody tr th {\n",
              "        vertical-align: top;\n",
              "    }\n",
              "\n",
              "    .dataframe thead th {\n",
              "        text-align: right;\n",
              "    }\n",
              "</style>\n",
              "<table border=\"1\" class=\"dataframe\">\n",
              "  <thead>\n",
              "    <tr style=\"text-align: right;\">\n",
              "      <th></th>\n",
              "      <th>msno</th>\n",
              "      <th>song_id</th>\n",
              "      <th>source_system_tab</th>\n",
              "      <th>source_screen_name</th>\n",
              "      <th>source_type</th>\n",
              "      <th>target</th>\n",
              "      <th>song_length</th>\n",
              "      <th>genre_ids</th>\n",
              "      <th>artist_name</th>\n",
              "      <th>composer</th>\n",
              "      <th>lyricist</th>\n",
              "      <th>language</th>\n",
              "    </tr>\n",
              "  </thead>\n",
              "  <tbody>\n",
              "    <tr>\n",
              "      <th>0</th>\n",
              "      <td>FGtllVqz18RPiwJj/edr2gV78zirAiY/9SmYvia+kCg=</td>\n",
              "      <td>BBzumQNXUHKdEBOB7mAJuzok+IJA1c2Ryg/yzTF6tik=</td>\n",
              "      <td>explore</td>\n",
              "      <td>Explore</td>\n",
              "      <td>online-playlist</td>\n",
              "      <td>1</td>\n",
              "      <td>206471.0</td>\n",
              "      <td>359</td>\n",
              "      <td>Bastille</td>\n",
              "      <td>Dan Smith| Mark Crew</td>\n",
              "      <td>NaN</td>\n",
              "      <td>52.0</td>\n",
              "    </tr>\n",
              "    <tr>\n",
              "      <th>1</th>\n",
              "      <td>Xumu+NIjS6QYVxDS4/t3SawvJ7viT9hPKXmf0RtLNx8=</td>\n",
              "      <td>bhp/MpSNoqoxOIB+/l8WPqu6jldth4DIpCm3ayXnJqM=</td>\n",
              "      <td>my library</td>\n",
              "      <td>Local playlist more</td>\n",
              "      <td>local-playlist</td>\n",
              "      <td>1</td>\n",
              "      <td>284584.0</td>\n",
              "      <td>1259</td>\n",
              "      <td>Various Artists</td>\n",
              "      <td>NaN</td>\n",
              "      <td>NaN</td>\n",
              "      <td>52.0</td>\n",
              "    </tr>\n",
              "    <tr>\n",
              "      <th>2</th>\n",
              "      <td>Xumu+NIjS6QYVxDS4/t3SawvJ7viT9hPKXmf0RtLNx8=</td>\n",
              "      <td>JNWfrrC7zNN7BdMpsISKa4Mw+xVJYNnxXh3/Epw7QgY=</td>\n",
              "      <td>my library</td>\n",
              "      <td>Local playlist more</td>\n",
              "      <td>local-playlist</td>\n",
              "      <td>1</td>\n",
              "      <td>225396.0</td>\n",
              "      <td>1259</td>\n",
              "      <td>Nas</td>\n",
              "      <td>N. Jones、W. Adams、J. Lordan、D. Ingle</td>\n",
              "      <td>NaN</td>\n",
              "      <td>52.0</td>\n",
              "    </tr>\n",
              "    <tr>\n",
              "      <th>3</th>\n",
              "      <td>Xumu+NIjS6QYVxDS4/t3SawvJ7viT9hPKXmf0RtLNx8=</td>\n",
              "      <td>2A87tzfnJTSWqD7gIZHisolhe4DMdzkbd6LzO1KHjNs=</td>\n",
              "      <td>my library</td>\n",
              "      <td>Local playlist more</td>\n",
              "      <td>local-playlist</td>\n",
              "      <td>1</td>\n",
              "      <td>255512.0</td>\n",
              "      <td>1019</td>\n",
              "      <td>Soundway</td>\n",
              "      <td>Kwadwo Donkoh</td>\n",
              "      <td>NaN</td>\n",
              "      <td>-1.0</td>\n",
              "    </tr>\n",
              "    <tr>\n",
              "      <th>4</th>\n",
              "      <td>FGtllVqz18RPiwJj/edr2gV78zirAiY/9SmYvia+kCg=</td>\n",
              "      <td>3qm6XTZ6MOCU11x8FIVbAGH5l5uMkT3/ZalWG1oo2Gc=</td>\n",
              "      <td>explore</td>\n",
              "      <td>Explore</td>\n",
              "      <td>online-playlist</td>\n",
              "      <td>1</td>\n",
              "      <td>187802.0</td>\n",
              "      <td>1011</td>\n",
              "      <td>Brett Young</td>\n",
              "      <td>Brett Young| Kelly Archer| Justin Ebach</td>\n",
              "      <td>NaN</td>\n",
              "      <td>52.0</td>\n",
              "    </tr>\n",
              "  </tbody>\n",
              "</table>\n",
              "</div>"
            ],
            "text/plain": [
              "                                           msno  \\\n",
              "0  FGtllVqz18RPiwJj/edr2gV78zirAiY/9SmYvia+kCg=   \n",
              "1  Xumu+NIjS6QYVxDS4/t3SawvJ7viT9hPKXmf0RtLNx8=   \n",
              "2  Xumu+NIjS6QYVxDS4/t3SawvJ7viT9hPKXmf0RtLNx8=   \n",
              "3  Xumu+NIjS6QYVxDS4/t3SawvJ7viT9hPKXmf0RtLNx8=   \n",
              "4  FGtllVqz18RPiwJj/edr2gV78zirAiY/9SmYvia+kCg=   \n",
              "\n",
              "                                        song_id source_system_tab  \\\n",
              "0  BBzumQNXUHKdEBOB7mAJuzok+IJA1c2Ryg/yzTF6tik=           explore   \n",
              "1  bhp/MpSNoqoxOIB+/l8WPqu6jldth4DIpCm3ayXnJqM=        my library   \n",
              "2  JNWfrrC7zNN7BdMpsISKa4Mw+xVJYNnxXh3/Epw7QgY=        my library   \n",
              "3  2A87tzfnJTSWqD7gIZHisolhe4DMdzkbd6LzO1KHjNs=        my library   \n",
              "4  3qm6XTZ6MOCU11x8FIVbAGH5l5uMkT3/ZalWG1oo2Gc=           explore   \n",
              "\n",
              "    source_screen_name      source_type  target  song_length genre_ids  \\\n",
              "0              Explore  online-playlist       1     206471.0       359   \n",
              "1  Local playlist more   local-playlist       1     284584.0      1259   \n",
              "2  Local playlist more   local-playlist       1     225396.0      1259   \n",
              "3  Local playlist more   local-playlist       1     255512.0      1019   \n",
              "4              Explore  online-playlist       1     187802.0      1011   \n",
              "\n",
              "       artist_name                                 composer lyricist  language  \n",
              "0         Bastille                     Dan Smith| Mark Crew      NaN      52.0  \n",
              "1  Various Artists                                      NaN      NaN      52.0  \n",
              "2              Nas     N. Jones、W. Adams、J. Lordan、D. Ingle      NaN      52.0  \n",
              "3         Soundway                            Kwadwo Donkoh      NaN      -1.0  \n",
              "4      Brett Young  Brett Young| Kelly Archer| Justin Ebach      NaN      52.0  "
            ]
          },
          "execution_count": 71,
          "metadata": {},
          "output_type": "execute_result"
        }
      ],
      "source": [
        "user_music_df = train_df.merge(song_df,on='song_id',how=\"left\", copy =False)\n",
        "user_music_df[\"song_id\"] = user_music_df[\"song_id\"].astype(\"category\")\n",
        "user_music_df.head()"
      ]
    },
    {
      "cell_type": "code",
      "execution_count": 72,
      "metadata": {
        "colab": {
          "base_uri": "https://localhost:8080/"
        },
        "id": "JOEK09212xXL",
        "outputId": "858be866-335b-485e-fa68-f0fb4dbefb58",
        "trusted": true
      },
      "outputs": [
        {
          "data": {
            "text/plain": [
              "(359966, 572)"
            ]
          },
          "execution_count": 72,
          "metadata": {},
          "output_type": "execute_result"
        }
      ],
      "source": [
        "user_music_df['song_id'].nunique(), user_music_df['genre_ids'].nunique()"
      ]
    },
    {
      "cell_type": "code",
      "execution_count": 73,
      "metadata": {
        "colab": {
          "base_uri": "https://localhost:8080/"
        },
        "id": "NfJHXQmf2xXM",
        "outputId": "bcca85ea-f49c-47fd-a82e-07619e6c5af6",
        "trusted": true
      },
      "outputs": [
        {
          "data": {
            "text/plain": [
              "msno                  7377418\n",
              "song_id               7377418\n",
              "source_system_tab     7352569\n",
              "source_screen_name    6962614\n",
              "source_type           7355879\n",
              "target                7377418\n",
              "song_length           7377304\n",
              "genre_ids             7258963\n",
              "artist_name           7377304\n",
              "composer              5701712\n",
              "lyricist              4198606\n",
              "language              7377268\n",
              "dtype: int64"
            ]
          },
          "execution_count": 73,
          "metadata": {},
          "output_type": "execute_result"
        }
      ],
      "source": [
        "user_music_df.count()"
      ]
    },
    {
      "cell_type": "code",
      "execution_count": 74,
      "metadata": {
        "colab": {
          "base_uri": "https://localhost:8080/",
          "height": 513
        },
        "id": "3Ds9jGL_2xXM",
        "outputId": "7ec74312-4398-421b-eacd-51d59e8a7670",
        "trusted": true
      },
      "outputs": [
        {
          "data": {
            "text/plain": [
              "Text(0.5, 0, 'Count')"
            ]
          },
          "execution_count": 74,
          "metadata": {},
          "output_type": "execute_result"
        },
        {
          "data": {
            "image/png": "[encoded data removed]",
            "text/plain": [
              "<Figure size 1500x800 with 1 Axes>"
            ]
          },
          "metadata": {},
          "output_type": "display_data"
        }
      ],
      "source": [
        "df_genre = user_music_df.sample(n=5000)\n",
        "df_genre = df_genre[\"genre_ids\"].value_counts().sort_values(ascending=False)[:20]\n",
        "df_genre = df_genre.sort_values(ascending=True)\n",
        "ax  = df_genre.plot.barh(figsize=(15,8))\n",
        "ax.set_ylabel(\"song genre ids\")\n",
        "ax.set_xlabel(\"Count\")\n"
      ]
    },
    {
      "cell_type": "code",
      "execution_count": 75,
      "metadata": {
        "colab": {
          "base_uri": "https://localhost:8080/",
          "height": 622
        },
        "id": "bUYNhuUR2xXM",
        "outputId": "03c131d5-ea7d-4d3e-a894-377c4ef5acd2",
        "trusted": true
      },
      "outputs": [
        {
          "data": {
            "text/plain": [
              "Text(0.5, 0, 'Count')"
            ]
          },
          "execution_count": 75,
          "metadata": {},
          "output_type": "execute_result"
        },
        {
          "data": {
            "image/png": "[encoded data removed]",
            "text/plain": [
              "<Figure size 1500x1000 with 1 Axes>"
            ]
          },
          "metadata": {},
          "output_type": "display_data"
        }
      ],
      "source": [
        "df_artist = user_music_df[\"artist_name\"].value_counts().sort_values(ascending=False)[:20]\n",
        "df_artist = df_artist.sort_values(ascending=True)\n",
        "ax  = df_artist.plot.barh(figsize=(15,10))\n",
        "ax.set_ylabel(\"song artist_name\")\n",
        "ax.set_xlabel(\"Count\")"
      ]
    },
    {
      "cell_type": "code",
      "execution_count": 76,
      "metadata": {
        "colab": {
          "base_uri": "https://localhost:8080/"
        },
        "id": "IIBf3EeO2xXM",
        "outputId": "cc21bd02-695b-46e8-8c68-208cdab11fc8",
        "trusted": true
      },
      "outputs": [
        {
          "data": {
            "text/plain": [
              "artist_name\n",
              "The Chainsmokers     44215\n",
              "梁靜茹 (Fish Leong)     44290\n",
              "丁噹 (Della)           45762\n",
              "楊丞琳 (Rainie Yang)    46006\n",
              "蘇打綠 (Sodagreen)      47177\n",
              "蔡依林 (Jolin Tsai)     49055\n",
              "Eric 周興哲             49426\n",
              "A-Lin                52913\n",
              "Maroon 5             55151\n",
              "謝和弦 (R-chord)        57040\n",
              "Name: count, dtype: int64"
            ]
          },
          "execution_count": 76,
          "metadata": {},
          "output_type": "execute_result"
        }
      ],
      "source": [
        "df_artist.head(10)"
      ]
    },
    {
      "cell_type": "code",
      "execution_count": 77,
      "metadata": {
        "colab": {
          "base_uri": "https://localhost:8080/",
          "height": 513
        },
        "id": "FIWYT9oD2xXM",
        "outputId": "f0333ad5-715f-4284-9557-634c6fa8d2f4",
        "trusted": true
      },
      "outputs": [
        {
          "data": {
            "image/png": "[encoded data removed]",
            "text/plain": [
              "<Figure size 1500x800 with 1 Axes>"
            ]
          },
          "metadata": {},
          "output_type": "display_data"
        }
      ],
      "source": [
        "fig, ax = plt.subplots(1, figsize=(15, 8))\n",
        "df_composer = user_music_df[\"composer\"].value_counts().sort_values(ascending=False)[:20]\n",
        "ax = sns.barplot(x=df_composer.index, y=df_composer, ax=ax)\n",
        "ax.set_xlabel(\"song composer\")\n",
        "ax.set_ylabel(\"Count\")\n",
        "plt.show()"
      ]
    },
    {
      "cell_type": "code",
      "execution_count": 78,
      "metadata": {
        "colab": {
          "base_uri": "https://localhost:8080/"
        },
        "id": "B99vAw6P2xXM",
        "outputId": "b174ed4d-8d9e-4128-efe2-8663a54576b0",
        "trusted": true
      },
      "outputs": [
        {
          "data": {
            "text/plain": [
              "Index(['周杰倫', '阿信', '林俊傑', '陳皓宇', 'JJ Lin', '張簡君偉', 'Eric Chou', '韋禮安',\n",
              "       '八三夭 阿璞', 'R-chord', '怪獸', '吳青峰', '周湯豪', 'G.E.M. 鄧紫棋', '陳小霞', 'JerryC',\n",
              "       '吳克群', '薛之謙', 'Rocoberry', '李榮浩'],\n",
              "      dtype='object', name='composer')"
            ]
          },
          "execution_count": 78,
          "metadata": {},
          "output_type": "execute_result"
        }
      ],
      "source": [
        "df_composer.head(20).index"
      ]
    },
    {
      "cell_type": "code",
      "execution_count": 79,
      "metadata": {
        "colab": {
          "base_uri": "https://localhost:8080/",
          "height": 1000
        },
        "id": "GzYdwsBv2xXN",
        "outputId": "30d65cbb-5e1c-415c-f4bc-16f85d2daf5c",
        "trusted": true
      },
      "outputs": [
        {
          "data": {
            "image/png": "[encoded data removed]",
            "text/plain": [
              "<Figure size 1500x1800 with 3 Axes>"
            ]
          },
          "metadata": {},
          "output_type": "display_data"
        }
      ],
      "source": [
        "fig, ax = plt.subplots(3, 1, figsize=(15, 18))\n",
        "user_music_df['target'] = user_music_df['target'].astype(str)\n",
        "\n",
        "sns.countplot(y='source_system_tab', hue='target',\n",
        "              order=user_music_df['source_system_tab'].value_counts().index,\n",
        "              data=user_music_df, dodge=True, ax=ax[0])\n",
        "ax[0].set_xlabel(\"source_system_tab\")\n",
        "ax[0].set_ylabel(\"count\")\n",
        "\n",
        "sns.countplot(y='source_screen_name', hue='target',\n",
        "              order=user_music_df['source_screen_name'].value_counts().index,\n",
        "              data=user_music_df, dodge=True, ax=ax[1])\n",
        "ax[1].set_xlabel(\"source_screen_name\")\n",
        "ax[1].set_ylabel(\"count\")\n",
        "\n",
        "sns.countplot(y='source_type', hue='target',\n",
        "              order=user_music_df['source_type'].value_counts().index,\n",
        "              data=user_music_df, dodge=True, ax=ax[2])\n",
        "ax[2].set_xlabel(\"source_type\")\n",
        "ax[2].set_ylabel(\"count\")\n",
        "\n",
        "plt.show()\n"
      ]
    },
    {
      "cell_type": "code",
      "execution_count": 80,
      "metadata": {
        "colab": {
          "base_uri": "https://localhost:8080/"
        },
        "id": "d8N4fGtl2xXN",
        "outputId": "d937d9d4-ac88-495f-ab8f-6ab2ec91b4cf",
        "trusted": true
      },
      "outputs": [
        {
          "name": "stdout",
          "output_type": "stream",
          "text": [
            "<class 'pandas.core.frame.DataFrame'>\n",
            "RangeIndex: 34403 entries, 0 to 34402\n",
            "Data columns (total 7 columns):\n",
            " #   Column                  Non-Null Count  Dtype \n",
            "---  ------                  --------------  ----- \n",
            " 0   msno                    34403 non-null  object\n",
            " 1   city                    34403 non-null  int64 \n",
            " 2   bd                      34403 non-null  int64 \n",
            " 3   gender                  14501 non-null  object\n",
            " 4   registered_via          34403 non-null  int64 \n",
            " 5   registration_init_time  34403 non-null  int64 \n",
            " 6   expiration_date         34403 non-null  int64 \n",
            "dtypes: int64(5), object(2)\n",
            "memory usage: 1.8+ MB\n"
          ]
        }
      ],
      "source": [
        "members_df.info()"
      ]
    },
    {
      "cell_type": "code",
      "execution_count": 81,
      "metadata": {
        "id": "c5gVQlXV2xXN",
        "trusted": true
      },
      "outputs": [],
      "source": [
        "members_df[\"registration_init_time\"] = pd.to_datetime(members_df[\"registration_init_time\"], format=\"%Y%m%d\")\n",
        "members_df[\"expiration_date\"] = pd.to_datetime(members_df[\"expiration_date\"], format=\"%Y%m%d\")"
      ]
    },
    {
      "cell_type": "code",
      "execution_count": 82,
      "metadata": {
        "colab": {
          "base_uri": "https://localhost:8080/"
        },
        "id": "eKOqR7gF2xXN",
        "outputId": "b9a983c3-f0a5-4b8b-83eb-bed46b1f52f2",
        "trusted": true
      },
      "outputs": [
        {
          "name": "stdout",
          "output_type": "stream",
          "text": [
            "<class 'pandas.core.frame.DataFrame'>\n",
            "RangeIndex: 34403 entries, 0 to 34402\n",
            "Data columns (total 11 columns):\n",
            " #   Column                   Non-Null Count  Dtype \n",
            "---  ------                   --------------  ----- \n",
            " 0   msno                     34403 non-null  object\n",
            " 1   city                     34403 non-null  int64 \n",
            " 2   bd                       34403 non-null  int64 \n",
            " 3   gender                   14501 non-null  object\n",
            " 4   registered_via           34403 non-null  int64 \n",
            " 5   registration_init_day    34403 non-null  int32 \n",
            " 6   registration_init_month  34403 non-null  int32 \n",
            " 7   registration_init_year   34403 non-null  int32 \n",
            " 8   expiration_day           34403 non-null  int32 \n",
            " 9   expiration_month         34403 non-null  int32 \n",
            " 10  expiration_year          34403 non-null  int32 \n",
            "dtypes: int32(6), int64(3), object(2)\n",
            "memory usage: 2.1+ MB\n"
          ]
        }
      ],
      "source": [
        "members_df[\"registration_init_day\"] = members_df[\"registration_init_time\"].dt.day\n",
        "members_df[\"registration_init_month\"] = members_df[\"registration_init_time\"].dt.month\n",
        "members_df[\"registration_init_year\"] = members_df[\"registration_init_time\"].dt.year\n",
        "members_df[\"expiration_day\"] = members_df[\"expiration_date\"].dt.day\n",
        "members_df[\"expiration_month\"] = members_df[\"expiration_date\"].dt.month\n",
        "members_df[\"expiration_year\"] = members_df[\"expiration_date\"].dt.year\n",
        "members_df = members_df.drop(columns = [\"registration_init_time\", \"expiration_date\"],axis=1)\n",
        "members_df.info()"
      ]
    },
    {
      "cell_type": "code",
      "execution_count": 83,
      "metadata": {
        "colab": {
          "base_uri": "https://localhost:8080/",
          "height": 484
        },
        "id": "dIx1wVlm2xXN",
        "outputId": "9154cb55-4b50-42ad-d2da-9c9a12291193",
        "trusted": true
      },
      "outputs": [
        {
          "data": {
            "text/html": [
              "<div>\n",
              "<style scoped>\n",
              "    .dataframe tbody tr th:only-of-type {\n",
              "        vertical-align: middle;\n",
              "    }\n",
              "\n",
              "    .dataframe tbody tr th {\n",
              "        vertical-align: top;\n",
              "    }\n",
              "\n",
              "    .dataframe thead th {\n",
              "        text-align: right;\n",
              "    }\n",
              "</style>\n",
              "<table border=\"1\" class=\"dataframe\">\n",
              "  <thead>\n",
              "    <tr style=\"text-align: right;\">\n",
              "      <th></th>\n",
              "      <th>msno</th>\n",
              "      <th>song_id</th>\n",
              "      <th>source_system_tab</th>\n",
              "      <th>source_screen_name</th>\n",
              "      <th>source_type</th>\n",
              "      <th>target</th>\n",
              "      <th>song_length</th>\n",
              "      <th>genre_ids</th>\n",
              "      <th>artist_name</th>\n",
              "      <th>composer</th>\n",
              "      <th>...</th>\n",
              "      <th>city</th>\n",
              "      <th>bd</th>\n",
              "      <th>gender</th>\n",
              "      <th>registered_via</th>\n",
              "      <th>registration_init_day</th>\n",
              "      <th>registration_init_month</th>\n",
              "      <th>registration_init_year</th>\n",
              "      <th>expiration_day</th>\n",
              "      <th>expiration_month</th>\n",
              "      <th>expiration_year</th>\n",
              "    </tr>\n",
              "  </thead>\n",
              "  <tbody>\n",
              "    <tr>\n",
              "      <th>0</th>\n",
              "      <td>FGtllVqz18RPiwJj/edr2gV78zirAiY/9SmYvia+kCg=</td>\n",
              "      <td>BBzumQNXUHKdEBOB7mAJuzok+IJA1c2Ryg/yzTF6tik=</td>\n",
              "      <td>explore</td>\n",
              "      <td>Explore</td>\n",
              "      <td>online-playlist</td>\n",
              "      <td>1</td>\n",
              "      <td>206471.0</td>\n",
              "      <td>359</td>\n",
              "      <td>Bastille</td>\n",
              "      <td>Dan Smith| Mark Crew</td>\n",
              "      <td>...</td>\n",
              "      <td>1</td>\n",
              "      <td>0</td>\n",
              "      <td>NaN</td>\n",
              "      <td>7</td>\n",
              "      <td>2</td>\n",
              "      <td>1</td>\n",
              "      <td>2012</td>\n",
              "      <td>5</td>\n",
              "      <td>10</td>\n",
              "      <td>2017</td>\n",
              "    </tr>\n",
              "    <tr>\n",
              "      <th>1</th>\n",
              "      <td>Xumu+NIjS6QYVxDS4/t3SawvJ7viT9hPKXmf0RtLNx8=</td>\n",
              "      <td>bhp/MpSNoqoxOIB+/l8WPqu6jldth4DIpCm3ayXnJqM=</td>\n",
              "      <td>my library</td>\n",
              "      <td>Local playlist more</td>\n",
              "      <td>local-playlist</td>\n",
              "      <td>1</td>\n",
              "      <td>284584.0</td>\n",
              "      <td>1259</td>\n",
              "      <td>Various Artists</td>\n",
              "      <td>NaN</td>\n",
              "      <td>...</td>\n",
              "      <td>13</td>\n",
              "      <td>24</td>\n",
              "      <td>female</td>\n",
              "      <td>9</td>\n",
              "      <td>25</td>\n",
              "      <td>5</td>\n",
              "      <td>2011</td>\n",
              "      <td>11</td>\n",
              "      <td>9</td>\n",
              "      <td>2017</td>\n",
              "    </tr>\n",
              "    <tr>\n",
              "      <th>2</th>\n",
              "      <td>Xumu+NIjS6QYVxDS4/t3SawvJ7viT9hPKXmf0RtLNx8=</td>\n",
              "      <td>JNWfrrC7zNN7BdMpsISKa4Mw+xVJYNnxXh3/Epw7QgY=</td>\n",
              "      <td>my library</td>\n",
              "      <td>Local playlist more</td>\n",
              "      <td>local-playlist</td>\n",
              "      <td>1</td>\n",
              "      <td>225396.0</td>\n",
              "      <td>1259</td>\n",
              "      <td>Nas</td>\n",
              "      <td>N. Jones、W. Adams、J. Lordan、D. Ingle</td>\n",
              "      <td>...</td>\n",
              "      <td>13</td>\n",
              "      <td>24</td>\n",
              "      <td>female</td>\n",
              "      <td>9</td>\n",
              "      <td>25</td>\n",
              "      <td>5</td>\n",
              "      <td>2011</td>\n",
              "      <td>11</td>\n",
              "      <td>9</td>\n",
              "      <td>2017</td>\n",
              "    </tr>\n",
              "    <tr>\n",
              "      <th>3</th>\n",
              "      <td>Xumu+NIjS6QYVxDS4/t3SawvJ7viT9hPKXmf0RtLNx8=</td>\n",
              "      <td>2A87tzfnJTSWqD7gIZHisolhe4DMdzkbd6LzO1KHjNs=</td>\n",
              "      <td>my library</td>\n",
              "      <td>Local playlist more</td>\n",
              "      <td>local-playlist</td>\n",
              "      <td>1</td>\n",
              "      <td>255512.0</td>\n",
              "      <td>1019</td>\n",
              "      <td>Soundway</td>\n",
              "      <td>Kwadwo Donkoh</td>\n",
              "      <td>...</td>\n",
              "      <td>13</td>\n",
              "      <td>24</td>\n",
              "      <td>female</td>\n",
              "      <td>9</td>\n",
              "      <td>25</td>\n",
              "      <td>5</td>\n",
              "      <td>2011</td>\n",
              "      <td>11</td>\n",
              "      <td>9</td>\n",
              "      <td>2017</td>\n",
              "    </tr>\n",
              "    <tr>\n",
              "      <th>4</th>\n",
              "      <td>FGtllVqz18RPiwJj/edr2gV78zirAiY/9SmYvia+kCg=</td>\n",
              "      <td>3qm6XTZ6MOCU11x8FIVbAGH5l5uMkT3/ZalWG1oo2Gc=</td>\n",
              "      <td>explore</td>\n",
              "      <td>Explore</td>\n",
              "      <td>online-playlist</td>\n",
              "      <td>1</td>\n",
              "      <td>187802.0</td>\n",
              "      <td>1011</td>\n",
              "      <td>Brett Young</td>\n",
              "      <td>Brett Young| Kelly Archer| Justin Ebach</td>\n",
              "      <td>...</td>\n",
              "      <td>1</td>\n",
              "      <td>0</td>\n",
              "      <td>NaN</td>\n",
              "      <td>7</td>\n",
              "      <td>2</td>\n",
              "      <td>1</td>\n",
              "      <td>2012</td>\n",
              "      <td>5</td>\n",
              "      <td>10</td>\n",
              "      <td>2017</td>\n",
              "    </tr>\n",
              "  </tbody>\n",
              "</table>\n",
              "<p>5 rows × 22 columns</p>\n",
              "</div>"
            ],
            "text/plain": [
              "                                           msno  \\\n",
              "0  FGtllVqz18RPiwJj/edr2gV78zirAiY/9SmYvia+kCg=   \n",
              "1  Xumu+NIjS6QYVxDS4/t3SawvJ7viT9hPKXmf0RtLNx8=   \n",
              "2  Xumu+NIjS6QYVxDS4/t3SawvJ7viT9hPKXmf0RtLNx8=   \n",
              "3  Xumu+NIjS6QYVxDS4/t3SawvJ7viT9hPKXmf0RtLNx8=   \n",
              "4  FGtllVqz18RPiwJj/edr2gV78zirAiY/9SmYvia+kCg=   \n",
              "\n",
              "                                        song_id source_system_tab  \\\n",
              "0  BBzumQNXUHKdEBOB7mAJuzok+IJA1c2Ryg/yzTF6tik=           explore   \n",
              "1  bhp/MpSNoqoxOIB+/l8WPqu6jldth4DIpCm3ayXnJqM=        my library   \n",
              "2  JNWfrrC7zNN7BdMpsISKa4Mw+xVJYNnxXh3/Epw7QgY=        my library   \n",
              "3  2A87tzfnJTSWqD7gIZHisolhe4DMdzkbd6LzO1KHjNs=        my library   \n",
              "4  3qm6XTZ6MOCU11x8FIVbAGH5l5uMkT3/ZalWG1oo2Gc=           explore   \n",
              "\n",
              "    source_screen_name      source_type target  song_length genre_ids  \\\n",
              "0              Explore  online-playlist      1     206471.0       359   \n",
              "1  Local playlist more   local-playlist      1     284584.0      1259   \n",
              "2  Local playlist more   local-playlist      1     225396.0      1259   \n",
              "3  Local playlist more   local-playlist      1     255512.0      1019   \n",
              "4              Explore  online-playlist      1     187802.0      1011   \n",
              "\n",
              "       artist_name                                 composer  ... city  bd  \\\n",
              "0         Bastille                     Dan Smith| Mark Crew  ...    1   0   \n",
              "1  Various Artists                                      NaN  ...   13  24   \n",
              "2              Nas     N. Jones、W. Adams、J. Lordan、D. Ingle  ...   13  24   \n",
              "3         Soundway                            Kwadwo Donkoh  ...   13  24   \n",
              "4      Brett Young  Brett Young| Kelly Archer| Justin Ebach  ...    1   0   \n",
              "\n",
              "   gender  registered_via registration_init_day  registration_init_month  \\\n",
              "0     NaN               7                     2                        1   \n",
              "1  female               9                    25                        5   \n",
              "2  female               9                    25                        5   \n",
              "3  female               9                    25                        5   \n",
              "4     NaN               7                     2                        1   \n",
              "\n",
              "   registration_init_year  expiration_day  expiration_month  expiration_year  \n",
              "0                    2012               5                10             2017  \n",
              "1                    2011              11                 9             2017  \n",
              "2                    2011              11                 9             2017  \n",
              "3                    2011              11                 9             2017  \n",
              "4                    2012               5                10             2017  \n",
              "\n",
              "[5 rows x 22 columns]"
            ]
          },
          "execution_count": 83,
          "metadata": {},
          "output_type": "execute_result"
        }
      ],
      "source": [
        "member_music_df = user_music_df.merge(members_df,on='msno',how=\"left\", copy=False)\n",
        "member_music_df[\"msno\"] = member_music_df[\"msno\"].astype(\"category\")\n",
        "member_music_df[\"song_id\"] = member_music_df[\"song_id\"].astype(\"category\")\n",
        "member_music_df.head()\n"
      ]
    },
    {
      "cell_type": "code",
      "execution_count": 84,
      "metadata": {
        "colab": {
          "base_uri": "https://localhost:8080/"
        },
        "id": "09bCkzfB2xXN",
        "outputId": "f5d9de54-a81d-4922-f9d6-a3ef327ca40b",
        "trusted": true
      },
      "outputs": [
        {
          "name": "stdout",
          "output_type": "stream",
          "text": [
            "<class 'pandas.core.frame.DataFrame'>\n",
            "RangeIndex: 7377418 entries, 0 to 7377417\n",
            "Data columns (total 22 columns):\n",
            " #   Column                   Dtype   \n",
            "---  ------                   -----   \n",
            " 0   msno                     category\n",
            " 1   song_id                  category\n",
            " 2   source_system_tab        object  \n",
            " 3   source_screen_name       object  \n",
            " 4   source_type              object  \n",
            " 5   target                   object  \n",
            " 6   song_length              float64 \n",
            " 7   genre_ids                object  \n",
            " 8   artist_name              object  \n",
            " 9   composer                 object  \n",
            " 10  lyricist                 object  \n",
            " 11  language                 float64 \n",
            " 12  city                     int64   \n",
            " 13  bd                       int64   \n",
            " 14  gender                   object  \n",
            " 15  registered_via           int64   \n",
            " 16  registration_init_day    int32   \n",
            " 17  registration_init_month  int32   \n",
            " 18  registration_init_year   int32   \n",
            " 19  expiration_day           int32   \n",
            " 20  expiration_month         int32   \n",
            " 21  expiration_year          int32   \n",
            "dtypes: category(2), float64(2), int32(6), int64(3), object(9)\n",
            "memory usage: 1011.1+ MB\n"
          ]
        }
      ],
      "source": [
        "member_music_df.info()"
      ]
    },
    {
      "cell_type": "code",
      "execution_count": 85,
      "metadata": {
        "colab": {
          "base_uri": "https://localhost:8080/"
        },
        "id": "_uCHkloJ2xXN",
        "outputId": "fb8d5c70-3f74-416c-8a0e-be856bae116d",
        "trusted": true
      },
      "outputs": [
        {
          "data": {
            "text/plain": [
              "msno                       7377418\n",
              "song_id                    7377418\n",
              "source_system_tab          7352569\n",
              "source_screen_name         6962614\n",
              "source_type                7355879\n",
              "target                     7377418\n",
              "song_length                7377304\n",
              "genre_ids                  7258963\n",
              "artist_name                7377304\n",
              "composer                   5701712\n",
              "lyricist                   4198606\n",
              "language                   7377268\n",
              "city                       7377418\n",
              "bd                         7377418\n",
              "gender                     4415939\n",
              "registered_via             7377418\n",
              "registration_init_day      7377418\n",
              "registration_init_month    7377418\n",
              "registration_init_year     7377418\n",
              "expiration_day             7377418\n",
              "expiration_month           7377418\n",
              "expiration_year            7377418\n",
              "dtype: int64"
            ]
          },
          "execution_count": 85,
          "metadata": {},
          "output_type": "execute_result"
        }
      ],
      "source": [
        "member_music_df.count()"
      ]
    },
    {
      "cell_type": "code",
      "execution_count": 86,
      "metadata": {
        "colab": {
          "base_uri": "https://localhost:8080/"
        },
        "id": "JqI9q_Vp2xXN",
        "outputId": "f88bfa87-7c45-4683-9fac-c3fc64466a39",
        "trusted": true
      },
      "outputs": [
        {
          "data": {
            "text/plain": [
              "count    7.377418e+06\n",
              "mean     1.753927e+01\n",
              "std      2.155447e+01\n",
              "min     -4.300000e+01\n",
              "25%      0.000000e+00\n",
              "50%      2.100000e+01\n",
              "75%      2.900000e+01\n",
              "max      1.051000e+03\n",
              "Name: bd, dtype: float64"
            ]
          },
          "execution_count": 86,
          "metadata": {},
          "output_type": "execute_result"
        }
      ],
      "source": [
        "member_music_df['bd'].describe()"
      ]
    },
    {
      "cell_type": "code",
      "execution_count": 87,
      "metadata": {
        "colab": {
          "base_uri": "https://localhost:8080/",
          "height": 525
        },
        "id": "TOfSnNWu2xXN",
        "outputId": "afbbfb5c-37be-4e9e-a560-580331357b05",
        "trusted": true
      },
      "outputs": [
        {
          "data": {
            "text/plain": [
              "Text(0, 0.5, 'count')"
            ]
          },
          "execution_count": 87,
          "metadata": {},
          "output_type": "execute_result"
        },
        {
          "data": {
            "image/png": "[encoded data removed]",
            "text/plain": [
              "<Figure size 1500x800 with 2 Axes>"
            ]
          },
          "metadata": {},
          "output_type": "display_data"
        }
      ],
      "source": [
        "fig, ax = plt.subplots(2, figsize= (15,8))\n",
        "age_df = member_music_df['bd'].loc[(member_music_df['bd']>0) & (member_music_df['bd']<100)]\n",
        "age_df.hist(ax = ax[0])\n",
        "ax[0].set_ylabel(\"count\")\n",
        "member_music_df['bd'].loc[(member_music_df['bd']<0) | (member_music_df['bd']>100)].hist(ax = ax[1])\n",
        "ax[1].set_xlabel(\"age\")\n",
        "ax[1].set_ylabel(\"count\")"
      ]
    },
    {
      "cell_type": "code",
      "execution_count": 88,
      "metadata": {
        "id": "sa5VwlUa2xXO",
        "trusted": true
      },
      "outputs": [],
      "source": [
        "member_music_df['bd'].loc[(member_music_df['bd']<=0) | (member_music_df['bd']>=100)]= np.nan"
      ]
    },
    {
      "cell_type": "code",
      "execution_count": 89,
      "metadata": {
        "colab": {
          "base_uri": "https://localhost:8080/",
          "height": 306
        },
        "id": "83BU-R4x2xXO",
        "outputId": "c140727c-b66b-44ac-f228-8baae12701d8",
        "trusted": true
      },
      "outputs": [
        {
          "data": {
            "text/html": [
              "<div>\n",
              "<style scoped>\n",
              "    .dataframe tbody tr th:only-of-type {\n",
              "        vertical-align: middle;\n",
              "    }\n",
              "\n",
              "    .dataframe tbody tr th {\n",
              "        vertical-align: top;\n",
              "    }\n",
              "\n",
              "    .dataframe thead th {\n",
              "        text-align: right;\n",
              "    }\n",
              "</style>\n",
              "<table border=\"1\" class=\"dataframe\">\n",
              "  <thead>\n",
              "    <tr style=\"text-align: right;\">\n",
              "      <th></th>\n",
              "      <th>song_length</th>\n",
              "      <th>language</th>\n",
              "      <th>city</th>\n",
              "      <th>bd</th>\n",
              "      <th>registered_via</th>\n",
              "      <th>registration_init_day</th>\n",
              "      <th>registration_init_month</th>\n",
              "      <th>registration_init_year</th>\n",
              "      <th>expiration_day</th>\n",
              "      <th>expiration_month</th>\n",
              "      <th>expiration_year</th>\n",
              "    </tr>\n",
              "  </thead>\n",
              "  <tbody>\n",
              "    <tr>\n",
              "      <th>count</th>\n",
              "      <td>7.377304e+06</td>\n",
              "      <td>7.377268e+06</td>\n",
              "      <td>7.377418e+06</td>\n",
              "      <td>4.430216e+06</td>\n",
              "      <td>7.377418e+06</td>\n",
              "      <td>7.377418e+06</td>\n",
              "      <td>7.377418e+06</td>\n",
              "      <td>7.377418e+06</td>\n",
              "      <td>7.377418e+06</td>\n",
              "      <td>7.377418e+06</td>\n",
              "      <td>7.377418e+06</td>\n",
              "    </tr>\n",
              "    <tr>\n",
              "      <th>mean</th>\n",
              "      <td>2.451210e+05</td>\n",
              "      <td>1.860933e+01</td>\n",
              "      <td>7.511399e+00</td>\n",
              "      <td>2.872200e+01</td>\n",
              "      <td>6.794068e+00</td>\n",
              "      <td>1.581532e+01</td>\n",
              "      <td>6.832306e+00</td>\n",
              "      <td>2.012741e+03</td>\n",
              "      <td>1.562338e+01</td>\n",
              "      <td>8.341742e+00</td>\n",
              "      <td>2.017072e+03</td>\n",
              "    </tr>\n",
              "    <tr>\n",
              "      <th>std</th>\n",
              "      <td>6.734471e+04</td>\n",
              "      <td>2.117681e+01</td>\n",
              "      <td>6.641625e+00</td>\n",
              "      <td>8.634326e+00</td>\n",
              "      <td>2.275774e+00</td>\n",
              "      <td>8.768549e+00</td>\n",
              "      <td>3.700723e+00</td>\n",
              "      <td>3.018861e+00</td>\n",
              "      <td>9.107235e+00</td>\n",
              "      <td>2.511360e+00</td>\n",
              "      <td>3.982536e-01</td>\n",
              "    </tr>\n",
              "    <tr>\n",
              "      <th>min</th>\n",
              "      <td>1.393000e+03</td>\n",
              "      <td>-1.000000e+00</td>\n",
              "      <td>1.000000e+00</td>\n",
              "      <td>2.000000e+00</td>\n",
              "      <td>3.000000e+00</td>\n",
              "      <td>1.000000e+00</td>\n",
              "      <td>1.000000e+00</td>\n",
              "      <td>2.004000e+03</td>\n",
              "      <td>1.000000e+00</td>\n",
              "      <td>1.000000e+00</td>\n",
              "      <td>1.970000e+03</td>\n",
              "    </tr>\n",
              "    <tr>\n",
              "      <th>25%</th>\n",
              "      <td>2.147260e+05</td>\n",
              "      <td>3.000000e+00</td>\n",
              "      <td>1.000000e+00</td>\n",
              "      <td>2.300000e+01</td>\n",
              "      <td>4.000000e+00</td>\n",
              "      <td>8.000000e+00</td>\n",
              "      <td>3.000000e+00</td>\n",
              "      <td>2.011000e+03</td>\n",
              "      <td>8.000000e+00</td>\n",
              "      <td>9.000000e+00</td>\n",
              "      <td>2.017000e+03</td>\n",
              "    </tr>\n",
              "    <tr>\n",
              "      <th>50%</th>\n",
              "      <td>2.418120e+05</td>\n",
              "      <td>3.000000e+00</td>\n",
              "      <td>5.000000e+00</td>\n",
              "      <td>2.700000e+01</td>\n",
              "      <td>7.000000e+00</td>\n",
              "      <td>1.600000e+01</td>\n",
              "      <td>7.000000e+00</td>\n",
              "      <td>2.013000e+03</td>\n",
              "      <td>1.500000e+01</td>\n",
              "      <td>9.000000e+00</td>\n",
              "      <td>2.017000e+03</td>\n",
              "    </tr>\n",
              "    <tr>\n",
              "      <th>75%</th>\n",
              "      <td>2.721600e+05</td>\n",
              "      <td>5.200000e+01</td>\n",
              "      <td>1.300000e+01</td>\n",
              "      <td>3.300000e+01</td>\n",
              "      <td>9.000000e+00</td>\n",
              "      <td>2.300000e+01</td>\n",
              "      <td>1.000000e+01</td>\n",
              "      <td>2.015000e+03</td>\n",
              "      <td>2.300000e+01</td>\n",
              "      <td>1.000000e+01</td>\n",
              "      <td>2.017000e+03</td>\n",
              "    </tr>\n",
              "    <tr>\n",
              "      <th>max</th>\n",
              "      <td>1.085171e+07</td>\n",
              "      <td>5.900000e+01</td>\n",
              "      <td>2.200000e+01</td>\n",
              "      <td>9.500000e+01</td>\n",
              "      <td>1.300000e+01</td>\n",
              "      <td>3.100000e+01</td>\n",
              "      <td>1.200000e+01</td>\n",
              "      <td>2.017000e+03</td>\n",
              "      <td>3.100000e+01</td>\n",
              "      <td>1.200000e+01</td>\n",
              "      <td>2.020000e+03</td>\n",
              "    </tr>\n",
              "  </tbody>\n",
              "</table>\n",
              "</div>"
            ],
            "text/plain": [
              "        song_length      language          city            bd  registered_via  \\\n",
              "count  7.377304e+06  7.377268e+06  7.377418e+06  4.430216e+06    7.377418e+06   \n",
              "mean   2.451210e+05  1.860933e+01  7.511399e+00  2.872200e+01    6.794068e+00   \n",
              "std    6.734471e+04  2.117681e+01  6.641625e+00  8.634326e+00    2.275774e+00   \n",
              "min    1.393000e+03 -1.000000e+00  1.000000e+00  2.000000e+00    3.000000e+00   \n",
              "25%    2.147260e+05  3.000000e+00  1.000000e+00  2.300000e+01    4.000000e+00   \n",
              "50%    2.418120e+05  3.000000e+00  5.000000e+00  2.700000e+01    7.000000e+00   \n",
              "75%    2.721600e+05  5.200000e+01  1.300000e+01  3.300000e+01    9.000000e+00   \n",
              "max    1.085171e+07  5.900000e+01  2.200000e+01  9.500000e+01    1.300000e+01   \n",
              "\n",
              "       registration_init_day  registration_init_month  registration_init_year  \\\n",
              "count           7.377418e+06             7.377418e+06            7.377418e+06   \n",
              "mean            1.581532e+01             6.832306e+00            2.012741e+03   \n",
              "std             8.768549e+00             3.700723e+00            3.018861e+00   \n",
              "min             1.000000e+00             1.000000e+00            2.004000e+03   \n",
              "25%             8.000000e+00             3.000000e+00            2.011000e+03   \n",
              "50%             1.600000e+01             7.000000e+00            2.013000e+03   \n",
              "75%             2.300000e+01             1.000000e+01            2.015000e+03   \n",
              "max             3.100000e+01             1.200000e+01            2.017000e+03   \n",
              "\n",
              "       expiration_day  expiration_month  expiration_year  \n",
              "count    7.377418e+06      7.377418e+06     7.377418e+06  \n",
              "mean     1.562338e+01      8.341742e+00     2.017072e+03  \n",
              "std      9.107235e+00      2.511360e+00     3.982536e-01  \n",
              "min      1.000000e+00      1.000000e+00     1.970000e+03  \n",
              "25%      8.000000e+00      9.000000e+00     2.017000e+03  \n",
              "50%      1.500000e+01      9.000000e+00     2.017000e+03  \n",
              "75%      2.300000e+01      1.000000e+01     2.017000e+03  \n",
              "max      3.100000e+01      1.200000e+01     2.020000e+03  "
            ]
          },
          "execution_count": 89,
          "metadata": {},
          "output_type": "execute_result"
        }
      ],
      "source": [
        "member_music_df.describe()"
      ]
    },
    {
      "cell_type": "code",
      "execution_count": 90,
      "metadata": {
        "colab": {
          "base_uri": "https://localhost:8080/",
          "height": 375
        },
        "id": "t0nkjXEdQoQO",
        "outputId": "89d182f0-6f94-4027-c710-0c56b8c62167"
      },
      "outputs": [
        {
          "data": {
            "image/png": "[encoded data removed]",
            "text/plain": [
              "<Figure size 1000x800 with 2 Axes>"
            ]
          },
          "metadata": {},
          "output_type": "display_data"
        }
      ],
      "source": [
        "non_numeric_columns = ['column_name1', 'column_name2', ...]\n",
        "\n",
        "numeric_columns = member_music_df.select_dtypes(include=['float64', 'int64']).columns\n",
        "numeric_columns = [col for col in numeric_columns if col not in non_numeric_columns]\n",
        "\n",
        "corr_matrix = member_music_df[numeric_columns].corr()\n",
        "\n",
        "plt.figure(figsize=(10, 8))\n",
        "sns.heatmap(corr_matrix, annot=True, cmap='coolwarm', fmt=\".2f\")\n",
        "plt.title('Correlation Matrix')\n",
        "plt.show()"
      ]
    },
    {
      "cell_type": "code",
      "execution_count": 91,
      "metadata": {
        "colab": {
          "base_uri": "https://localhost:8080/"
        },
        "id": "lQx-VszKQoW1",
        "outputId": "34331bba-8330-4a56-aa4c-327f894f1ccd"
      },
      "outputs": [
        {
          "name": "stdout",
          "output_type": "stream",
          "text": [
            "Skipping target as it is not present in the numeric columns for correlation.\n",
            "bd 0.009861302779273176\n",
            "city 0.005184912771082545\n",
            "registered_via 0.0027491378933093597\n",
            "\n",
            "bd 0.0011079783941423636\n",
            "registered_via -0.00023213032064927868\n",
            "city -0.0221979818785147\n",
            "\n",
            "registered_via 0.07375561757288539\n",
            "song_length 0.005184912771082545\n",
            "language -0.0221979818785147\n",
            "\n",
            "registered_via 0.17533900158978546\n",
            "song_length 0.009861302779273176\n",
            "language 0.0011079783941423636\n",
            "\n",
            "bd 0.17533900158978546\n",
            "city 0.07375561757288539\n",
            "song_length 0.0027491378933093597\n",
            "\n",
            "Skipping registration_init_day as it is not present in the numeric columns for correlation.\n",
            "Skipping registration_init_month as it is not present in the numeric columns for correlation.\n",
            "Skipping registration_init_year as it is not present in the numeric columns for correlation.\n",
            "Skipping expiration_day as it is not present in the numeric columns for correlation.\n",
            "Skipping expiration_month as it is not present in the numeric columns for correlation.\n",
            "Skipping expiration_year as it is not present in the numeric columns for correlation.\n"
          ]
        }
      ],
      "source": [
        "non_numeric_columns = ['genre_ids', 'artist_name', 'composer', 'lyricist', 'gender']\n",
        "\n",
        "numeric_columns = member_music_df.select_dtypes(include=['float64', 'int64']).columns\n",
        "numeric_columns = [col for col in numeric_columns if col not in non_numeric_columns]\n",
        "\n",
        "corr_matrix = member_music_df[numeric_columns].corr()\n",
        "\n",
        "for column in ['target', 'song_length', 'language', 'city', 'bd', 'registered_via',\n",
        "               'registration_init_day', 'registration_init_month', 'registration_init_year',\n",
        "               'expiration_day', 'expiration_month', 'expiration_year']:\n",
        "    try:\n",
        "        corr = corr_matrix[column].sort_values(ascending=False)\n",
        "        for x in corr.index[1:4].to_list():\n",
        "            print(\"{} {}\".format(x, corr[x]))\n",
        "        print(\"\")\n",
        "    except KeyError as e:\n",
        "        print(f\"Skipping {column} as it is not present in the numeric columns for correlation.\")\n",
        "        continue"
      ]
    },
    {
      "cell_type": "code",
      "execution_count": 92,
      "metadata": {
        "colab": {
          "base_uri": "https://localhost:8080/",
          "height": 497
        },
        "id": "Hh1rnzLAQoEB",
        "outputId": "1575b5b4-95f2-4c7d-d6da-7ab19a1cbc03"
      },
      "outputs": [
        {
          "data": {
            "image/png": "[encoded data removed]",
            "text/plain": [
              "<Figure size 1000x800 with 1 Axes>"
            ]
          },
          "metadata": {},
          "output_type": "display_data"
        }
      ],
      "source": [
        "fig, ax = plt.subplots(1,1,figsize=(10,8), sharex=False)\n",
        "plt.scatter(x = member_music_df['city'],y = member_music_df['bd'])\n",
        "ax.set_ylabel(\"bd\")\n",
        "ax.set_xlabel(\"city\")\n",
        "plt.show()"
      ]
    },
    {
      "cell_type": "code",
      "execution_count": 93,
      "metadata": {
        "colab": {
          "base_uri": "https://localhost:8080/",
          "height": 497
        },
        "id": "QweEKVCpRA_6",
        "outputId": "f7816109-7ac6-47c4-a127-1c7124417dcf"
      },
      "outputs": [
        {
          "data": {
            "image/png": "[encoded data removed]",
            "text/plain": [
              "<Figure size 1000x800 with 1 Axes>"
            ]
          },
          "metadata": {},
          "output_type": "display_data"
        }
      ],
      "source": [
        "fig, ax = plt.subplots(1,1,figsize=(10,8), sharex=False)\n",
        "plt.scatter(x = member_music_df['target'],y = member_music_df['expiration_year'])\n",
        "ax.set_ylabel(\"expiration_year\")\n",
        "ax.set_xlabel(\"target\")\n",
        "plt.show()"
      ]
    },
    {
      "cell_type": "code",
      "execution_count": 94,
      "metadata": {
        "colab": {
          "base_uri": "https://localhost:8080/"
        },
        "id": "yYt2lXCURiR3",
        "outputId": "04edf324-972f-42ff-a32b-e90c96694819"
      },
      "outputs": [
        {
          "name": "stdout",
          "output_type": "stream",
          "text": [
            "target\n",
            "1    50.351708\n",
            "0    49.648292\n",
            "Name: count, dtype: float64\n",
            "unique songs  359966\n"
          ]
        }
      ],
      "source": [
        "print(train_df.target.value_counts()*100/train_df.target.value_counts().sum())\n",
        "print('unique songs ',len(train_df.song_id.unique()))"
      ]
    },
    {
      "cell_type": "code",
      "execution_count": 95,
      "metadata": {
        "colab": {
          "base_uri": "https://localhost:8080/"
        },
        "id": "O1qRiA32RiO_",
        "outputId": "d0aae1e8-5610-467e-9f42-e18bb7950b32"
      },
      "outputs": [
        {
          "name": "stdout",
          "output_type": "stream",
          "text": [
            "Print top 50 songs repeated\n"
          ]
        },
        {
          "data": {
            "text/plain": [
              "song_id\n",
              "reXuGcEWDDCnL0K3Th//3DFG4S1ACSpJMzA+CFipo1g=    10885\n",
              "T86YHdD4C9JSc274b1IlMkLuNdz4BQRB50fWWE7hx9g=    10556\n",
              "FynUyq0+drmIARmK1JZ/qcjNZ7DKkqTY6/0O0lTzNUI=     9808\n",
              "wBTWuHbjdjxnG1lQcbqnK4FddV24rUhuyrYLd9c/hmk=     9411\n",
              "PgRtmmESVNtWjoZHO5a1r21vIz9sVZmcJJpFCbRa1LI=     9004\n",
              "U9kojfZSKaiWOW94PKh1Riyv/zUWxmBRmv0XInQWLGw=     8787\n",
              "YN4T/yvvXtYrBVN8KTnieiQohHL3T9fnzUkbLWcgLro=     8780\n",
              "M9rAajz4dYuRhZ7jLvf9RRayVA3os61X/XXHEuW4giA=     8403\n",
              "43Qm2YzsP99P5wm37B1JIhezUcQ/1CDjYlQx6rBbz2U=     8112\n",
              "J4qKkLIoW7aYACuTupHLAPZYmRp08en1AEux+GSUzdw=     7903\n",
              "cy10N2j2sdY/X4BDUcMu2Iumfz7pV3tqE5iEaup2yGI=     7725\n",
              "750RprmFfLV0bymtDH88g24pLZGVi5VpBAI300P6UOA=     7608\n",
              "IKMFuL0f5Y8c63Hg9BXkeNJjE0z8yf3gMt/tOxF4QNE=     7224\n",
              "+SstqMwhQPBQFTPBhLKPT642IiBDXzZFwlzsLl4cGXo=     7061\n",
              "DLBDZhOoW7zd7GBV99bi92ZXYUS26lzV+jJKbHshP5c=     6901\n",
              "v/3onppBGoSpGsWb8iaCIO8eX5+iacbH5a4ZUhT7N54=     6879\n",
              "p/yR06j/RQ2J6yGCFL0K+1R06OeG+eXcwxRgOHDo/Tk=     6536\n",
              "Xpjwi8UAE2Vv9PZ6cZnhc58MCtl3cKZEO1sdAkqJ4mo=     6399\n",
              "OaEbZ6TJ1NePtNUeEgWsvFLeopkSln9WQu8PBR5B3+A=     6187\n",
              "BITuBuNyXQydJcjDL2BUnCu4/IXaJg5IPOuycc/4dtY=     6160\n",
              "BgqjNqzsyCpEGvxyUmktvHC8WO5+FQO/pQTaZ4broMU=     6140\n",
              "3VkD5ekIf5duJm1hmYTZlXjyl0zqV8wCzuAh3uocfCg=     6012\n",
              "8Ckw1wek5d6oEsNUoM4P5iag86TaEmyLwdtrckL0Re8=     6003\n",
              "n+pMhj/jpCnpiUcSDl4k3i9FJODDddEXmpE48/HczTI=     5787\n",
              "WL4ipO3Mx9pxd4FMs69ha6o9541+fLeOow67Qkrfnro=     5784\n",
              "/70HjygVDhHsKBoV8mmsBg/WduSgs4+Zg6GfzhUQbdk=     5588\n",
              "L6w2d0w84FjTvFr+BhMfgu7dZAsGiOqUGmvvxIG3gvQ=     5480\n",
              "fEAIgFRWmhXmo6m3ukQeqRksZCcO/7CjkqNckRHiVQo=     5460\n",
              "+Sm75wnBf/sjm/QMUAFx8N+Ae04kWCXGlgH50tTeM6c=     5412\n",
              "VkDBgh89umc9m6uAEfD6LXngetyGhln4vh/ArCGO0nY=     5361\n",
              "fCCmIa0Y5m+MCGbQga31MOLTIqi7ddgXvkjFPmfslGw=     5305\n",
              "+LztcJcPEEwsikk6+K5udm06XJQMzR4+lzavKLUyE0k=     5298\n",
              "o9HWMBZMeIPnYEpSuscGoORKE44sj3BYOdvGuIi0P68=     5233\n",
              "QZBm8SOwnEjNfCpgsKBBGPMGET6y6XaQgnJiirspW7I=     5224\n",
              "ClazTFnk6r0Bnuie44bocdNMM3rdlrq0bCGAsGUWcHE=     5202\n",
              "wp1gSQ4LlMEF6bzvEaJl8VdHlAj/EJMTJ0ASrXeddbo=     5110\n",
              "THqGcrzQyUhBn1NI/+Iptc1vKtxBIEg0uA8iaoJnO1Q=     5086\n",
              "ys+EL8Sok4HC4i7sDY0+slDNGVZ8+uOQi6TQ6g8VSF4=     5012\n",
              "zHqZ07gn+YvF36FWzv9+y8KiCMhYhdAUS+vSIKY3UZY=     5001\n",
              "8f/T4ohROj1wa25YHMItOW2/wJhRXZM0+T5/2p86COc=     4982\n",
              "G/4+VCRLpfjQJ4SAwMDcf+W8PTw0eOBRgFvg4fHUOO8=     4956\n",
              "KZ5hwP74wRO6kRapVIprwodtNdVD2EVD3hkZmmyXFPk=     4888\n",
              "MtFK4NN8Kv1k/xPA3wb8SQaP/jWee52FAaC1s9NFsU4=     4813\n",
              "UQeOwfhcqgEcIwp3cgNiLGW1237Qjpvqzt/asQimVp0=     4778\n",
              "JA6C0GEK1sSCVbHyqtruH/ARD1NKolYrw7HXy6EVNAc=     4766\n",
              "8qWeDv6RTv+hYJxW94e7n6HBzHPGPEZW9FuGhj6pPhQ=     4761\n",
              "35dx60z4m4+Lg+qIS0l2A8vspbthqnpTylWUu51jW+4=     4679\n",
              "r4lUPUkz3tAgIWaEyrSYVCxX1yz8PnlVuQz+To0Pd+c=     4650\n",
              "1PR/lVwL4VeYcZjexwBJ2NOSTfgh8JoVxWCunnbJO/8=     4592\n",
              "7EnDBkQYJpipCyRd9JBsug4iKnfAunUXc14/96cNotg=     4571\n",
              "Name: count, dtype: int64"
            ]
          },
          "execution_count": 95,
          "metadata": {},
          "output_type": "execute_result"
        }
      ],
      "source": [
        "repeats=train_df[train_df.target==1]\n",
        "song_repeats=repeats.groupby('song_id',as_index=False).msno.count()\n",
        "song_repeats.columns=['song_id','count']\n",
        "song_repeats=pd.DataFrame(song_repeats).merge(song_df,left_on='song_id',right_on='song_id')\n",
        "print(\"Print top 50 songs repeated\")\n",
        "repeats.song_id.value_counts().head(50)"
      ]
    },
    {
      "cell_type": "code",
      "execution_count": 96,
      "metadata": {
        "colab": {
          "base_uri": "https://localhost:8080/"
        },
        "id": "NxkQi9BC2xXO",
        "outputId": "ee17ee3d-8e3f-486e-ceb2-e0f30e82f488",
        "trusted": true
      },
      "outputs": [
        {
          "data": {
            "text/plain": [
              "['source_system_tab',\n",
              " 'source_screen_name',\n",
              " 'source_type',\n",
              " 'song_length',\n",
              " 'genre_ids',\n",
              " 'artist_name',\n",
              " 'composer',\n",
              " 'lyricist',\n",
              " 'language',\n",
              " 'bd',\n",
              " 'gender']"
            ]
          },
          "execution_count": 96,
          "metadata": {},
          "output_type": "execute_result"
        }
      ],
      "source": [
        "missing_value_cols = [c for c in member_music_df.columns if member_music_df[c].isnull().any()]\n",
        "missing_value_cols"
      ]
    },
    {
      "cell_type": "code",
      "execution_count": 97,
      "metadata": {
        "colab": {
          "base_uri": "https://localhost:8080/"
        },
        "id": "aohGZyxm2xXO",
        "outputId": "7cd300d6-5bef-4f1e-8ecc-0bf3a0a3c53c",
        "trusted": true
      },
      "outputs": [
        {
          "data": {
            "text/plain": [
              "msno                       7377418\n",
              "song_id                    7377418\n",
              "source_system_tab          7352569\n",
              "source_screen_name         6962614\n",
              "source_type                7355879\n",
              "target                     7377418\n",
              "song_length                7377304\n",
              "genre_ids                  7258963\n",
              "artist_name                7377304\n",
              "composer                   5701712\n",
              "lyricist                   4198606\n",
              "language                   7377268\n",
              "city                       7377418\n",
              "bd                         4430216\n",
              "gender                     4415939\n",
              "registered_via             7377418\n",
              "registration_init_day      7377418\n",
              "registration_init_month    7377418\n",
              "registration_init_year     7377418\n",
              "expiration_day             7377418\n",
              "expiration_month           7377418\n",
              "expiration_year            7377418\n",
              "dtype: int64"
            ]
          },
          "execution_count": 97,
          "metadata": {},
          "output_type": "execute_result"
        }
      ],
      "source": [
        "member_music_df.count()"
      ]
    },
    {
      "cell_type": "code",
      "execution_count": 98,
      "metadata": {
        "id": "It0nv15A2xXO",
        "trusted": true
      },
      "outputs": [],
      "source": [
        "def fill_missing_value_v1(x):\n",
        "    return x.fillna(x.value_counts().sort_values(ascending=False).index[0])\n",
        "categorical_ls = ['source_system_tab', 'source_screen_name','source_type','genre_ids','artist_name','composer',\n",
        " 'lyricist','gender']\n",
        "\n",
        "numerical_ls = ['song_length','language','bd']\n",
        "for index in numerical_ls:\n",
        "    member_music_df[index].fillna(member_music_df[index].median(), inplace=True)\n",
        "for index in categorical_ls:\n",
        "    member_music_df[index].fillna(\"no_data\", inplace=True)\n"
      ]
    },
    {
      "cell_type": "code",
      "execution_count": 99,
      "metadata": {
        "colab": {
          "base_uri": "https://localhost:8080/"
        },
        "id": "Lbw58wOu2xXO",
        "outputId": "04e4b673-b25d-4ba9-ea0c-f03885ec3362",
        "trusted": true
      },
      "outputs": [
        {
          "data": {
            "text/plain": [
              "msno                       7377418\n",
              "song_id                    7377418\n",
              "source_system_tab          7377418\n",
              "source_screen_name         7377418\n",
              "source_type                7377418\n",
              "target                     7377418\n",
              "song_length                7377418\n",
              "genre_ids                  7377418\n",
              "artist_name                7377418\n",
              "composer                   7377418\n",
              "lyricist                   7377418\n",
              "language                   7377418\n",
              "city                       7377418\n",
              "bd                         7377418\n",
              "gender                     7377418\n",
              "registered_via             7377418\n",
              "registration_init_day      7377418\n",
              "registration_init_month    7377418\n",
              "registration_init_year     7377418\n",
              "expiration_day             7377418\n",
              "expiration_month           7377418\n",
              "expiration_year            7377418\n",
              "dtype: int64"
            ]
          },
          "execution_count": 99,
          "metadata": {},
          "output_type": "execute_result"
        }
      ],
      "source": [
        "member_music_df.count()"
      ]
    },
    {
      "cell_type": "code",
      "execution_count": 100,
      "metadata": {
        "colab": {
          "base_uri": "https://localhost:8080/",
          "height": 404
        },
        "id": "GaxhdaYD2xXO",
        "outputId": "17dbd2fd-2715-4c38-9d9f-46db7c137a4c",
        "trusted": true
      },
      "outputs": [
        {
          "data": {
            "text/html": [
              "<div>\n",
              "<style scoped>\n",
              "    .dataframe tbody tr th:only-of-type {\n",
              "        vertical-align: middle;\n",
              "    }\n",
              "\n",
              "    .dataframe tbody tr th {\n",
              "        vertical-align: top;\n",
              "    }\n",
              "\n",
              "    .dataframe thead th {\n",
              "        text-align: right;\n",
              "    }\n",
              "</style>\n",
              "<table border=\"1\" class=\"dataframe\">\n",
              "  <thead>\n",
              "    <tr style=\"text-align: right;\">\n",
              "      <th></th>\n",
              "      <th>song_length</th>\n",
              "      <th>language</th>\n",
              "      <th>bd</th>\n",
              "    </tr>\n",
              "  </thead>\n",
              "  <tbody>\n",
              "    <tr>\n",
              "      <th>0</th>\n",
              "      <td>206471.0</td>\n",
              "      <td>52.0</td>\n",
              "      <td>27.0</td>\n",
              "    </tr>\n",
              "    <tr>\n",
              "      <th>1</th>\n",
              "      <td>284584.0</td>\n",
              "      <td>52.0</td>\n",
              "      <td>24.0</td>\n",
              "    </tr>\n",
              "    <tr>\n",
              "      <th>2</th>\n",
              "      <td>225396.0</td>\n",
              "      <td>52.0</td>\n",
              "      <td>24.0</td>\n",
              "    </tr>\n",
              "    <tr>\n",
              "      <th>3</th>\n",
              "      <td>255512.0</td>\n",
              "      <td>-1.0</td>\n",
              "      <td>24.0</td>\n",
              "    </tr>\n",
              "    <tr>\n",
              "      <th>4</th>\n",
              "      <td>187802.0</td>\n",
              "      <td>52.0</td>\n",
              "      <td>27.0</td>\n",
              "    </tr>\n",
              "    <tr>\n",
              "      <th>...</th>\n",
              "      <td>...</td>\n",
              "      <td>...</td>\n",
              "      <td>...</td>\n",
              "    </tr>\n",
              "    <tr>\n",
              "      <th>95</th>\n",
              "      <td>333024.0</td>\n",
              "      <td>3.0</td>\n",
              "      <td>27.0</td>\n",
              "    </tr>\n",
              "    <tr>\n",
              "      <th>96</th>\n",
              "      <td>288391.0</td>\n",
              "      <td>3.0</td>\n",
              "      <td>46.0</td>\n",
              "    </tr>\n",
              "    <tr>\n",
              "      <th>97</th>\n",
              "      <td>279196.0</td>\n",
              "      <td>3.0</td>\n",
              "      <td>46.0</td>\n",
              "    </tr>\n",
              "    <tr>\n",
              "      <th>98</th>\n",
              "      <td>240744.0</td>\n",
              "      <td>3.0</td>\n",
              "      <td>46.0</td>\n",
              "    </tr>\n",
              "    <tr>\n",
              "      <th>99</th>\n",
              "      <td>221622.0</td>\n",
              "      <td>3.0</td>\n",
              "      <td>46.0</td>\n",
              "    </tr>\n",
              "  </tbody>\n",
              "</table>\n",
              "<p>100 rows × 3 columns</p>\n",
              "</div>"
            ],
            "text/plain": [
              "    song_length  language    bd\n",
              "0      206471.0      52.0  27.0\n",
              "1      284584.0      52.0  24.0\n",
              "2      225396.0      52.0  24.0\n",
              "3      255512.0      -1.0  24.0\n",
              "4      187802.0      52.0  27.0\n",
              "..          ...       ...   ...\n",
              "95     333024.0       3.0  27.0\n",
              "96     288391.0       3.0  46.0\n",
              "97     279196.0       3.0  46.0\n",
              "98     240744.0       3.0  46.0\n",
              "99     221622.0       3.0  46.0\n",
              "\n",
              "[100 rows x 3 columns]"
            ]
          },
          "execution_count": 100,
          "metadata": {},
          "output_type": "execute_result"
        }
      ],
      "source": [
        "\n",
        "member_music_df[numerical_ls].head(100)"
      ]
    },
    {
      "cell_type": "code",
      "execution_count": 101,
      "metadata": {
        "colab": {
          "base_uri": "https://localhost:8080/",
          "height": 404
        },
        "id": "dqOsCJsy2xXO",
        "outputId": "01825195-208e-499a-fa2f-2c75450c0f2d",
        "trusted": true
      },
      "outputs": [
        {
          "data": {
            "text/html": [
              "<div>\n",
              "<style scoped>\n",
              "    .dataframe tbody tr th:only-of-type {\n",
              "        vertical-align: middle;\n",
              "    }\n",
              "\n",
              "    .dataframe tbody tr th {\n",
              "        vertical-align: top;\n",
              "    }\n",
              "\n",
              "    .dataframe thead th {\n",
              "        text-align: right;\n",
              "    }\n",
              "</style>\n",
              "<table border=\"1\" class=\"dataframe\">\n",
              "  <thead>\n",
              "    <tr style=\"text-align: right;\">\n",
              "      <th></th>\n",
              "      <th>source_system_tab</th>\n",
              "      <th>source_screen_name</th>\n",
              "      <th>source_type</th>\n",
              "      <th>genre_ids</th>\n",
              "      <th>artist_name</th>\n",
              "      <th>composer</th>\n",
              "      <th>lyricist</th>\n",
              "      <th>gender</th>\n",
              "    </tr>\n",
              "  </thead>\n",
              "  <tbody>\n",
              "    <tr>\n",
              "      <th>0</th>\n",
              "      <td>explore</td>\n",
              "      <td>Explore</td>\n",
              "      <td>online-playlist</td>\n",
              "      <td>359</td>\n",
              "      <td>Bastille</td>\n",
              "      <td>Dan Smith| Mark Crew</td>\n",
              "      <td>no_data</td>\n",
              "      <td>no_data</td>\n",
              "    </tr>\n",
              "    <tr>\n",
              "      <th>1</th>\n",
              "      <td>my library</td>\n",
              "      <td>Local playlist more</td>\n",
              "      <td>local-playlist</td>\n",
              "      <td>1259</td>\n",
              "      <td>Various Artists</td>\n",
              "      <td>no_data</td>\n",
              "      <td>no_data</td>\n",
              "      <td>female</td>\n",
              "    </tr>\n",
              "    <tr>\n",
              "      <th>2</th>\n",
              "      <td>my library</td>\n",
              "      <td>Local playlist more</td>\n",
              "      <td>local-playlist</td>\n",
              "      <td>1259</td>\n",
              "      <td>Nas</td>\n",
              "      <td>N. Jones、W. Adams、J. Lordan、D. Ingle</td>\n",
              "      <td>no_data</td>\n",
              "      <td>female</td>\n",
              "    </tr>\n",
              "    <tr>\n",
              "      <th>3</th>\n",
              "      <td>my library</td>\n",
              "      <td>Local playlist more</td>\n",
              "      <td>local-playlist</td>\n",
              "      <td>1019</td>\n",
              "      <td>Soundway</td>\n",
              "      <td>Kwadwo Donkoh</td>\n",
              "      <td>no_data</td>\n",
              "      <td>female</td>\n",
              "    </tr>\n",
              "    <tr>\n",
              "      <th>4</th>\n",
              "      <td>explore</td>\n",
              "      <td>Explore</td>\n",
              "      <td>online-playlist</td>\n",
              "      <td>1011</td>\n",
              "      <td>Brett Young</td>\n",
              "      <td>Brett Young| Kelly Archer| Justin Ebach</td>\n",
              "      <td>no_data</td>\n",
              "      <td>no_data</td>\n",
              "    </tr>\n",
              "    <tr>\n",
              "      <th>...</th>\n",
              "      <td>...</td>\n",
              "      <td>...</td>\n",
              "      <td>...</td>\n",
              "      <td>...</td>\n",
              "      <td>...</td>\n",
              "      <td>...</td>\n",
              "      <td>...</td>\n",
              "      <td>...</td>\n",
              "    </tr>\n",
              "    <tr>\n",
              "      <th>95</th>\n",
              "      <td>my library</td>\n",
              "      <td>no_data</td>\n",
              "      <td>local-library</td>\n",
              "      <td>458</td>\n",
              "      <td>楊乃文 (Naiwen Yang)</td>\n",
              "      <td>黃建為</td>\n",
              "      <td>葛大為</td>\n",
              "      <td>male</td>\n",
              "    </tr>\n",
              "    <tr>\n",
              "      <th>96</th>\n",
              "      <td>my library</td>\n",
              "      <td>Local playlist more</td>\n",
              "      <td>local-library</td>\n",
              "      <td>458</td>\n",
              "      <td>陳奕迅 (Eason Chan)</td>\n",
              "      <td>Jun Jie Lin</td>\n",
              "      <td>no_data</td>\n",
              "      <td>female</td>\n",
              "    </tr>\n",
              "    <tr>\n",
              "      <th>97</th>\n",
              "      <td>my library</td>\n",
              "      <td>Local playlist more</td>\n",
              "      <td>local-library</td>\n",
              "      <td>458</td>\n",
              "      <td>周杰倫 (Jay Chou)</td>\n",
              "      <td>周杰倫</td>\n",
              "      <td>方文山</td>\n",
              "      <td>female</td>\n",
              "    </tr>\n",
              "    <tr>\n",
              "      <th>98</th>\n",
              "      <td>my library</td>\n",
              "      <td>Local playlist more</td>\n",
              "      <td>local-library</td>\n",
              "      <td>465</td>\n",
              "      <td>范瑋琪 (Christine Fan)</td>\n",
              "      <td>非非</td>\n",
              "      <td>非非</td>\n",
              "      <td>female</td>\n",
              "    </tr>\n",
              "    <tr>\n",
              "      <th>99</th>\n",
              "      <td>my library</td>\n",
              "      <td>Local playlist more</td>\n",
              "      <td>local-library</td>\n",
              "      <td>465|1259</td>\n",
              "      <td>玖壹壹</td>\n",
              "      <td>陳皓宇</td>\n",
              "      <td>廖建至|洪瑜鴻</td>\n",
              "      <td>female</td>\n",
              "    </tr>\n",
              "  </tbody>\n",
              "</table>\n",
              "<p>100 rows × 8 columns</p>\n",
              "</div>"
            ],
            "text/plain": [
              "   source_system_tab   source_screen_name      source_type genre_ids  \\\n",
              "0            explore              Explore  online-playlist       359   \n",
              "1         my library  Local playlist more   local-playlist      1259   \n",
              "2         my library  Local playlist more   local-playlist      1259   \n",
              "3         my library  Local playlist more   local-playlist      1019   \n",
              "4            explore              Explore  online-playlist      1011   \n",
              "..               ...                  ...              ...       ...   \n",
              "95        my library              no_data    local-library       458   \n",
              "96        my library  Local playlist more    local-library       458   \n",
              "97        my library  Local playlist more    local-library       458   \n",
              "98        my library  Local playlist more    local-library       465   \n",
              "99        my library  Local playlist more    local-library  465|1259   \n",
              "\n",
              "            artist_name                                 composer lyricist  \\\n",
              "0              Bastille                     Dan Smith| Mark Crew  no_data   \n",
              "1       Various Artists                                  no_data  no_data   \n",
              "2                   Nas     N. Jones、W. Adams、J. Lordan、D. Ingle  no_data   \n",
              "3              Soundway                            Kwadwo Donkoh  no_data   \n",
              "4           Brett Young  Brett Young| Kelly Archer| Justin Ebach  no_data   \n",
              "..                  ...                                      ...      ...   \n",
              "95    楊乃文 (Naiwen Yang)                                      黃建為      葛大為   \n",
              "96     陳奕迅 (Eason Chan)                              Jun Jie Lin  no_data   \n",
              "97       周杰倫 (Jay Chou)                                      周杰倫      方文山   \n",
              "98  范瑋琪 (Christine Fan)                                       非非       非非   \n",
              "99                  玖壹壹                                      陳皓宇  廖建至|洪瑜鴻   \n",
              "\n",
              "     gender  \n",
              "0   no_data  \n",
              "1    female  \n",
              "2    female  \n",
              "3    female  \n",
              "4   no_data  \n",
              "..      ...  \n",
              "95     male  \n",
              "96   female  \n",
              "97   female  \n",
              "98   female  \n",
              "99   female  \n",
              "\n",
              "[100 rows x 8 columns]"
            ]
          },
          "execution_count": 101,
          "metadata": {},
          "output_type": "execute_result"
        }
      ],
      "source": [
        "\n",
        "member_music_df[categorical_ls].head(100)"
      ]
    },
    {
      "cell_type": "code",
      "execution_count": 102,
      "metadata": {
        "colab": {
          "base_uri": "https://localhost:8080/"
        },
        "id": "1uxMnqIz2xXO",
        "outputId": "d55bc837-bc32-461e-c34e-4fa606735a62",
        "trusted": true
      },
      "outputs": [
        {
          "data": {
            "text/plain": [
              "Index(['msno', 'song_id', 'source_system_tab', 'source_screen_name',\n",
              "       'source_type', 'target', 'song_length', 'genre_ids', 'artist_name',\n",
              "       'composer', 'lyricist', 'language', 'city', 'bd', 'gender',\n",
              "       'registered_via', 'registration_init_day', 'registration_init_month',\n",
              "       'registration_init_year', 'expiration_day', 'expiration_month',\n",
              "       'expiration_year'],\n",
              "      dtype='object')"
            ]
          },
          "execution_count": 102,
          "metadata": {},
          "output_type": "execute_result"
        }
      ],
      "source": [
        "member_music_df.columns"
      ]
    },
    {
      "cell_type": "code",
      "execution_count": 103,
      "metadata": {
        "colab": {
          "base_uri": "https://localhost:8080/"
        },
        "id": "wM0w1zAd2xXO",
        "outputId": "1fac4162-178d-41e2-fef7-bf1024dbc2c6",
        "trusted": true
      },
      "outputs": [
        {
          "data": {
            "text/plain": [
              "(573, 76065, 33888)"
            ]
          },
          "execution_count": 103,
          "metadata": {},
          "output_type": "execute_result"
        }
      ],
      "source": [
        "member_music_df.genre_ids.nunique(), member_music_df.composer.nunique(), member_music_df.lyricist.nunique()"
      ]
    },
    {
      "cell_type": "code",
      "execution_count": 104,
      "metadata": {
        "id": "rB0vGJ1G2xXO",
        "trusted": true
      },
      "outputs": [],
      "source": [
        "def count_items(x):\n",
        "    if x ==\"no_data\":\n",
        "        return 0\n",
        "    return sum(map(x.count, ['|', '/', '\\\\', ';',','])) + 1\n",
        "\n",
        "member_music_df['genre_count']=  member_music_df['genre_ids'].apply(count_items)\n",
        "member_music_df['composer_count']=  member_music_df['composer'].apply(count_items)\n",
        "member_music_df['lyricist_count']=  member_music_df['lyricist'].apply(count_items)"
      ]
    },
    {
      "cell_type": "code",
      "execution_count": 105,
      "metadata": {
        "colab": {
          "base_uri": "https://localhost:8080/",
          "height": 484
        },
        "id": "ZFvj5DlV2xXO",
        "outputId": "e7f8b38b-d936-434a-aaed-a59089b1c2ab",
        "trusted": true
      },
      "outputs": [
        {
          "data": {
            "text/html": [
              "<div>\n",
              "<style scoped>\n",
              "    .dataframe tbody tr th:only-of-type {\n",
              "        vertical-align: middle;\n",
              "    }\n",
              "\n",
              "    .dataframe tbody tr th {\n",
              "        vertical-align: top;\n",
              "    }\n",
              "\n",
              "    .dataframe thead th {\n",
              "        text-align: right;\n",
              "    }\n",
              "</style>\n",
              "<table border=\"1\" class=\"dataframe\">\n",
              "  <thead>\n",
              "    <tr style=\"text-align: right;\">\n",
              "      <th></th>\n",
              "      <th>msno</th>\n",
              "      <th>song_id</th>\n",
              "      <th>source_system_tab</th>\n",
              "      <th>source_screen_name</th>\n",
              "      <th>source_type</th>\n",
              "      <th>target</th>\n",
              "      <th>song_length</th>\n",
              "      <th>genre_ids</th>\n",
              "      <th>artist_name</th>\n",
              "      <th>composer</th>\n",
              "      <th>...</th>\n",
              "      <th>registered_via</th>\n",
              "      <th>registration_init_day</th>\n",
              "      <th>registration_init_month</th>\n",
              "      <th>registration_init_year</th>\n",
              "      <th>expiration_day</th>\n",
              "      <th>expiration_month</th>\n",
              "      <th>expiration_year</th>\n",
              "      <th>genre_count</th>\n",
              "      <th>composer_count</th>\n",
              "      <th>lyricist_count</th>\n",
              "    </tr>\n",
              "  </thead>\n",
              "  <tbody>\n",
              "    <tr>\n",
              "      <th>0</th>\n",
              "      <td>FGtllVqz18RPiwJj/edr2gV78zirAiY/9SmYvia+kCg=</td>\n",
              "      <td>BBzumQNXUHKdEBOB7mAJuzok+IJA1c2Ryg/yzTF6tik=</td>\n",
              "      <td>explore</td>\n",
              "      <td>Explore</td>\n",
              "      <td>online-playlist</td>\n",
              "      <td>1</td>\n",
              "      <td>206471.0</td>\n",
              "      <td>359</td>\n",
              "      <td>Bastille</td>\n",
              "      <td>Dan Smith| Mark Crew</td>\n",
              "      <td>...</td>\n",
              "      <td>7</td>\n",
              "      <td>2</td>\n",
              "      <td>1</td>\n",
              "      <td>2012</td>\n",
              "      <td>5</td>\n",
              "      <td>10</td>\n",
              "      <td>2017</td>\n",
              "      <td>1</td>\n",
              "      <td>2</td>\n",
              "      <td>0</td>\n",
              "    </tr>\n",
              "    <tr>\n",
              "      <th>1</th>\n",
              "      <td>Xumu+NIjS6QYVxDS4/t3SawvJ7viT9hPKXmf0RtLNx8=</td>\n",
              "      <td>bhp/MpSNoqoxOIB+/l8WPqu6jldth4DIpCm3ayXnJqM=</td>\n",
              "      <td>my library</td>\n",
              "      <td>Local playlist more</td>\n",
              "      <td>local-playlist</td>\n",
              "      <td>1</td>\n",
              "      <td>284584.0</td>\n",
              "      <td>1259</td>\n",
              "      <td>Various Artists</td>\n",
              "      <td>no_data</td>\n",
              "      <td>...</td>\n",
              "      <td>9</td>\n",
              "      <td>25</td>\n",
              "      <td>5</td>\n",
              "      <td>2011</td>\n",
              "      <td>11</td>\n",
              "      <td>9</td>\n",
              "      <td>2017</td>\n",
              "      <td>1</td>\n",
              "      <td>0</td>\n",
              "      <td>0</td>\n",
              "    </tr>\n",
              "    <tr>\n",
              "      <th>2</th>\n",
              "      <td>Xumu+NIjS6QYVxDS4/t3SawvJ7viT9hPKXmf0RtLNx8=</td>\n",
              "      <td>JNWfrrC7zNN7BdMpsISKa4Mw+xVJYNnxXh3/Epw7QgY=</td>\n",
              "      <td>my library</td>\n",
              "      <td>Local playlist more</td>\n",
              "      <td>local-playlist</td>\n",
              "      <td>1</td>\n",
              "      <td>225396.0</td>\n",
              "      <td>1259</td>\n",
              "      <td>Nas</td>\n",
              "      <td>N. Jones、W. Adams、J. Lordan、D. Ingle</td>\n",
              "      <td>...</td>\n",
              "      <td>9</td>\n",
              "      <td>25</td>\n",
              "      <td>5</td>\n",
              "      <td>2011</td>\n",
              "      <td>11</td>\n",
              "      <td>9</td>\n",
              "      <td>2017</td>\n",
              "      <td>1</td>\n",
              "      <td>1</td>\n",
              "      <td>0</td>\n",
              "    </tr>\n",
              "    <tr>\n",
              "      <th>3</th>\n",
              "      <td>Xumu+NIjS6QYVxDS4/t3SawvJ7viT9hPKXmf0RtLNx8=</td>\n",
              "      <td>2A87tzfnJTSWqD7gIZHisolhe4DMdzkbd6LzO1KHjNs=</td>\n",
              "      <td>my library</td>\n",
              "      <td>Local playlist more</td>\n",
              "      <td>local-playlist</td>\n",
              "      <td>1</td>\n",
              "      <td>255512.0</td>\n",
              "      <td>1019</td>\n",
              "      <td>Soundway</td>\n",
              "      <td>Kwadwo Donkoh</td>\n",
              "      <td>...</td>\n",
              "      <td>9</td>\n",
              "      <td>25</td>\n",
              "      <td>5</td>\n",
              "      <td>2011</td>\n",
              "      <td>11</td>\n",
              "      <td>9</td>\n",
              "      <td>2017</td>\n",
              "      <td>1</td>\n",
              "      <td>1</td>\n",
              "      <td>0</td>\n",
              "    </tr>\n",
              "    <tr>\n",
              "      <th>4</th>\n",
              "      <td>FGtllVqz18RPiwJj/edr2gV78zirAiY/9SmYvia+kCg=</td>\n",
              "      <td>3qm6XTZ6MOCU11x8FIVbAGH5l5uMkT3/ZalWG1oo2Gc=</td>\n",
              "      <td>explore</td>\n",
              "      <td>Explore</td>\n",
              "      <td>online-playlist</td>\n",
              "      <td>1</td>\n",
              "      <td>187802.0</td>\n",
              "      <td>1011</td>\n",
              "      <td>Brett Young</td>\n",
              "      <td>Brett Young| Kelly Archer| Justin Ebach</td>\n",
              "      <td>...</td>\n",
              "      <td>7</td>\n",
              "      <td>2</td>\n",
              "      <td>1</td>\n",
              "      <td>2012</td>\n",
              "      <td>5</td>\n",
              "      <td>10</td>\n",
              "      <td>2017</td>\n",
              "      <td>1</td>\n",
              "      <td>3</td>\n",
              "      <td>0</td>\n",
              "    </tr>\n",
              "  </tbody>\n",
              "</table>\n",
              "<p>5 rows × 25 columns</p>\n",
              "</div>"
            ],
            "text/plain": [
              "                                           msno  \\\n",
              "0  FGtllVqz18RPiwJj/edr2gV78zirAiY/9SmYvia+kCg=   \n",
              "1  Xumu+NIjS6QYVxDS4/t3SawvJ7viT9hPKXmf0RtLNx8=   \n",
              "2  Xumu+NIjS6QYVxDS4/t3SawvJ7viT9hPKXmf0RtLNx8=   \n",
              "3  Xumu+NIjS6QYVxDS4/t3SawvJ7viT9hPKXmf0RtLNx8=   \n",
              "4  FGtllVqz18RPiwJj/edr2gV78zirAiY/9SmYvia+kCg=   \n",
              "\n",
              "                                        song_id source_system_tab  \\\n",
              "0  BBzumQNXUHKdEBOB7mAJuzok+IJA1c2Ryg/yzTF6tik=           explore   \n",
              "1  bhp/MpSNoqoxOIB+/l8WPqu6jldth4DIpCm3ayXnJqM=        my library   \n",
              "2  JNWfrrC7zNN7BdMpsISKa4Mw+xVJYNnxXh3/Epw7QgY=        my library   \n",
              "3  2A87tzfnJTSWqD7gIZHisolhe4DMdzkbd6LzO1KHjNs=        my library   \n",
              "4  3qm6XTZ6MOCU11x8FIVbAGH5l5uMkT3/ZalWG1oo2Gc=           explore   \n",
              "\n",
              "    source_screen_name      source_type target  song_length genre_ids  \\\n",
              "0              Explore  online-playlist      1     206471.0       359   \n",
              "1  Local playlist more   local-playlist      1     284584.0      1259   \n",
              "2  Local playlist more   local-playlist      1     225396.0      1259   \n",
              "3  Local playlist more   local-playlist      1     255512.0      1019   \n",
              "4              Explore  online-playlist      1     187802.0      1011   \n",
              "\n",
              "       artist_name                                 composer  ...  \\\n",
              "0         Bastille                     Dan Smith| Mark Crew  ...   \n",
              "1  Various Artists                                  no_data  ...   \n",
              "2              Nas     N. Jones、W. Adams、J. Lordan、D. Ingle  ...   \n",
              "3         Soundway                            Kwadwo Donkoh  ...   \n",
              "4      Brett Young  Brett Young| Kelly Archer| Justin Ebach  ...   \n",
              "\n",
              "  registered_via  registration_init_day  registration_init_month  \\\n",
              "0              7                      2                        1   \n",
              "1              9                     25                        5   \n",
              "2              9                     25                        5   \n",
              "3              9                     25                        5   \n",
              "4              7                      2                        1   \n",
              "\n",
              "   registration_init_year expiration_day  expiration_month  expiration_year  \\\n",
              "0                    2012              5                10             2017   \n",
              "1                    2011             11                 9             2017   \n",
              "2                    2011             11                 9             2017   \n",
              "3                    2011             11                 9             2017   \n",
              "4                    2012              5                10             2017   \n",
              "\n",
              "   genre_count  composer_count  lyricist_count  \n",
              "0            1               2               0  \n",
              "1            1               0               0  \n",
              "2            1               1               0  \n",
              "3            1               1               0  \n",
              "4            1               3               0  \n",
              "\n",
              "[5 rows x 25 columns]"
            ]
          },
          "execution_count": 105,
          "metadata": {},
          "output_type": "execute_result"
        }
      ],
      "source": [
        "member_music_df.head()"
      ]
    },
    {
      "cell_type": "code",
      "execution_count": 106,
      "metadata": {
        "id": "bPLy1YJH2xXO",
        "trusted": true
      },
      "outputs": [
        {
          "name": "stdout",
          "output_type": "stream",
          "text": [
            "<class 'pandas.core.frame.DataFrame'>\n",
            "RangeIndex: 7377418 entries, 0 to 7377417\n",
            "Data columns (total 25 columns):\n",
            " #   Column                   Dtype   \n",
            "---  ------                   -----   \n",
            " 0   msno                     category\n",
            " 1   song_id                  category\n",
            " 2   source_system_tab        object  \n",
            " 3   source_screen_name       object  \n",
            " 4   source_type              object  \n",
            " 5   target                   object  \n",
            " 6   song_length              float64 \n",
            " 7   genre_ids                object  \n",
            " 8   artist_name              object  \n",
            " 9   composer                 object  \n",
            " 10  lyricist                 object  \n",
            " 11  language                 float64 \n",
            " 12  city                     int64   \n",
            " 13  bd                       float64 \n",
            " 14  gender                   object  \n",
            " 15  registered_via           int64   \n",
            " 16  registration_init_day    int32   \n",
            " 17  registration_init_month  int32   \n",
            " 18  registration_init_year   int32   \n",
            " 19  expiration_day           int32   \n",
            " 20  expiration_month         int32   \n",
            " 21  expiration_year          int32   \n",
            " 22  genre_count              int64   \n",
            " 23  composer_count           int64   \n",
            " 24  lyricist_count           int64   \n",
            "dtypes: category(2), float64(3), int32(6), int64(5), object(9)\n",
            "memory usage: 1.2+ GB\n"
          ]
        }
      ],
      "source": [
        "member_music_df.info()"
      ]
    }
  ],
  "metadata": {
    "colab": {
      "collapsed_sections": [],
      "name": "kkboxmusicrecommendation-notebook-v7.ipynb",
      "provenance": []
    },
    "kernelspec": {
      "display_name": "Python 3",
      "language": "python",
      "name": "python3"
    },
    "language_info": {
      "codemirror_mode": {
        "name": "ipython",
        "version": 3
      },
      "file_extension": ".py",
      "mimetype": "text/x-python",
      "name": "python",
      "nbconvert_exporter": "python",
      "pygments_lexer": "ipython3",
      "version": "3.11.5"
    }
  },
  "nbformat": 4,
  "nbformat_minor": 0
}
